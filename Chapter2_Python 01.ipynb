{
cells: [
{
cell_type: "markdown",
metadata: { },
source: [
"# Logic and Repetition
",
"
",
"In this unit, we'll first understand what procedures are and why you might want to use them.  
",
"Then you'll start to write some procedures. Next, we'll learn about Python logic, or how to make comparisons.  
",
"
",
"Finally, we'll go on to repetition, and how to repeat operations in Python using while and for loops.  
",
"
",
"* [Procedural Abstraction](#Procedural-Abstraction)
",
"* [Computer Logic](#Python-Logic)
",
"* [Repetition](#Repetition)
"
]
},
{
cell_type: "markdown",
metadata: { },
source: [
"# Procedural Abstraction
",
"
",
"What is a procedure? Why might you want to abstract it?"
]
},
{
cell_type: "markdown",
metadata: { },
source: [
"We use procedures because we want to stop us from doing tedious work.  
",
"Anything we might want to do again and again we will want to 'abstract'."
]
},
{
cell_type: "markdown",
metadata: { },
source: [
"## Functions
",
"
",
"A function is a block of organized, reusable code that is used to perform a single, related action.  For example, we can use the same procedure to multiply two numbers, whatever they are.  We then specify the numbers being multiplied as arguements of the function. Many functions return a value which you can then use; they can also print something out immediately
",
"
",
"#### Syntax:"
]
},
{
cell_type: "code",
execution_count: null,
metadata: { },
outputs: [ ],
source: [
"#def means define the function
",
"
",
"def functionname( parameters ): #colon represents function start
",
"    #the body of function must be indented
",
"    "This is the doctring of functionname. \
",
"    It is good practice to put a description of what your function does here."
",
"    block_of_code
",
"    return [expression]"
]
},
{
cell_type: "code",
execution_count: null,
metadata: { },
outputs: [ ],
source: [
"print((functionname.__doc__))"
]
},
{
cell_type: "code",
execution_count: null,
metadata: { },
outputs: [ ],
source: [
"# void: does not return
",
"def myPrinter(text):
",
"    print(text)
",
"    
",
"myPrinter(234)  #You can use just number without the quotation mark
",
"myPrinter("This is python class")  #Need to use the quotation mark for string"
]
},
{
cell_type: "code",
execution_count: null,
metadata: { },
outputs: [ ],
source: [
"# has return
",
"def multiplyer(i, j): #function hasn't been defined the type so can take strings as parameters
",
"    return i*j
",
"
",
"print((multiplyer('hello', 3)))
",
"print(multiplyer(4, 3))
",
"print((multiplyer(4, 3) + 1))"
]
},
{
cell_type: "code",
execution_count: null,
metadata: { },
outputs: [ ],
source: [
"multiplyer() # raise error"
]
},
{
cell_type: "code",
execution_count: null,
metadata: { },
outputs: [ ],
source: [
"def multiplyer(i, j):
",
"    return i*j"
]
},
{
cell_type: "code",
execution_count: null,
metadata: { },
outputs: [ ],
source: [
"b = multiplyer(2,4)
",
"print (b)"
]
},
{
cell_type: "code",
execution_count: null,
metadata: { },
outputs: [ ],
source: [
"def print_info( name, age = 35, height=150, weight=60 ): 
",
"    #name is mandatory (MUST specify), age, height and weight                                                       
",
"    #will take default values if not specifed by the input
",
"    
",
"    "This prints a passed info into this function"
",
"    print(("Name: ", name))
",
"    print(("Age: ", age))
",
"    print(("Height: ", height))
",
"    print(("Weight: ", weight))
",
"    print()
",
"
",
"#print_info('Hafiz', 22, weight=65)
",
"#print_info('Lina')
",
"#print_info(age=22,name='Hafiz', weight=65, height=180)
",
"print_info(22,'Hafiz', 65,145)"
]
},
{
cell_type: "code",
execution_count: null,
metadata: { },
outputs: [ ],
source: [
"# Define a procedure that finds the index of the second instance of a string in a larger string.
",
"def find_second(findin, whattofind):
",
"   
",
"    first_index = findin.find(whattofind)
",
"    print(first_index)
",
"    second_index = findin.find(whattofind, first_index+1)
",
"    
",
"    return second_index"
]
},
{
cell_type: "code",
execution_count: null,
metadata: { },
outputs: [ ],
source: [
"find_second('dance, dance, dance everyday', 'dance')"
]
},
{
cell_type: "code",
execution_count: null,
metadata: { },
outputs: [ ],
source: [
"find_second('learning about data, surprisingly, requires a lot of data','data')"
]
},
{
cell_type: "markdown",
metadata: { },
source: [
"# Python Logic
",
"Can a computer think? How does a computer think differently from how we do? We've seen how computers can represent abstract concepts.  One of those abstract concepts is logic.  We've developed programs that can use logic. 
",
"
",
"A **boolean** expression is an expression that is either _true_ or _false_. The following examples use the operator ==, which compares two operands and produces True if they are equal and False otherwise.
",
"
",
"There are three logical operators: _and_, _or_, and _not_. The semantics (meaning) of these operators is similar to their meaning in English.
",
"
",
"
",
"#### String logic
",
"is	-- object identity	 
",
"
",
"is not	-- negated object identity	
",
"
",
"x in s -- True if an item of s is equal to x, else False
",
"
",
"x not in s -- False if an item of s is equal to x, else True
",
"
",
"x or y -- if x is false, then y, else x
",
"
",
"x and y -- if x is false, then x, else y
",
"
",
"not x -- if x is false, then True, else False 
",
"
",
"#### Arithmetic logic
",
"\>  Strictly larger than
",
"
",
"==  Is the identity of
",
"
",
"\>=  Greater than or equal to 
",
"
",
"\!=  Is not the identity of.
"
]
},
{
cell_type: "code",
execution_count: null,
metadata: { },
outputs: [ ],
source: [
"#example of string
",
"
",
"s = "my string"
",
"s2 = "my string"
",
"
",
"'my' in s"
]
},
{
cell_type: "code",
execution_count: null,
metadata: { },
outputs: [ ],
source: [
"#example of string
",
"
",
"s="my string"
",
"s2 = "my string"
",
"
",
"'mys' in s
"
]
},
{
cell_type: "code",
execution_count: null,
metadata: { },
outputs: [ ],
source: [
"#example of string
",
"
",
"s="my string"
",
"s2 = "my string"
",
"
",
"'my' not in s   #doing the negation
",
"#same as
",
"not 'my' in s"
]
},
{
cell_type: "code",
execution_count: null,
metadata: { },
outputs: [ ],
source: [
"#example of string
",
"
",
"a = True  #Capital (T) and (F) 
",
"b = False
",
"
",
"a or b
",
"#same as
",
"not (a and b)"
]
},
{
cell_type: "code",
execution_count: null,
metadata: { },
outputs: [ ],
source: [
"print((5 > 2))
",
"print((2 > 5))
",
"print((2 == 2))
",
"print((2 == 3)) 
",
"print((5 > 2 or 2 > 1))
",
"print((5 > 2 and 2 > 2))
",
"print(('s' in 'datascience'))
",
"print(('x' in 'datascience'))"
]
},
{
cell_type: "code",
execution_count: null,
metadata: { },
outputs: [ ],
source: [
"# Why is == equals, not = ?"
]
},
{
cell_type: "markdown",
metadata: { },
source: [
"### Conditional Execution
",
"
",
"Python does not use { } to enclose blocks of code for if/loops/function etc. like C. Instead, Python uses the colon (:) and indentation/whitespace to group statements. "
]
},
{
cell_type: "markdown",
metadata: { },
source: [
"In order to write useful programs, we almost always need the ability to check conditions and change the behavior of the program accordingly. Conditional statements give us this ability. The simplest form is the if statement:
",
"
",
"```python
",
"if x > 0 :
",
"    print 'x is positive'
",
"```
",
"    
",
"The boolean expression after the if statement is called the condition. We end the if statement with a colon character (:) and the line(s) after the if statement are indented.
",
"
",
"![](http://www.pythonlearn.com/html-007/cfbook005.png)
",
"
",
"If the logical condition is true, then the indented statement gets executed. If the logical condition is false, the indented statement is skipped.
",
"
",
"### Alternative execution
",
"
",
"A second form of the if statement is alternative execution, in which there are two possibilities and the condition determines which one gets executed. The syntax looks like this:
",
"
",
"```python
",
"if x%2 == 0 :
",
"    print 'x is even'
",
"else :
",
"    print 'x is odd'
",
"```
",
"
",
"If the remainder when x is divided by 2 is 0, then we know that x is even, and the program displays a message to that effect. If the condition is false, the second set of statements is executed. 
",
"
",
"![](http://www.pythonlearn.com/html-007/cfbook006.png)
",
"
",
"Since the condition must be true or false, exactly one of the alternatives will be executed. The alternatives are called branches, because they are branches in the flow of execution.
",
"
",
"### Chained conditionals
",
"
",
"Sometimes there are more than two possibilities and we need more than two branches. One way to express a computation like that is a chained conditional:
",
"
",
"```python
",
"if x < y:
",
"    print 'x is less than y'
",
"elif x > y:
",
"    print 'x is greater than y'
",
"else:
",
"    print 'x and y are equal'
",
"```
",
"
",
"elif is an abbreviation of "else if". Again, exactly one branch will be executed.
",
"
",
"![](http://www.pythonlearn.com/html-007/cfbook007.png)
",
"
",
"There is no limit on the number of elif statements. If there is an else clause, it has to be at the end, but there doesn't have to be one.
"
]
},
{
cell_type: "code",
execution_count: null,
metadata: { },
outputs: [ ],
source: [
"if False:
",
"    print("block of code 1")
",
"elif True:
",
"    print("block of code 2")
",
"else:
",
"    print("block of code 3")"
]
},
{
cell_type: "code",
execution_count: null,
metadata: { },
outputs: [ ],
source: [
"speed = 80
",
"mood = 'good'
",
"
",
"if speed >= 80:
",
"    print('License and registration please')
",
"    if mood == 'terrible' or speed >= 100:
",
"        print('You have the right to remain silent.')
",
"    elif mood == 'bad' or speed >= 90:
",
"        print("I'm going to have to write you a ticket.")
",
"    else:
",
"        print("Let's try to keep it under 80 ok?")"
]
},
{
cell_type: "code",
execution_count: null,
metadata: { },
outputs: [ ],
source: [
"string = 'Hi there' # True example
",
"#string = 'Good bye' # False example
",
"
",
"result = string.find('ere')
",
"print(result)
",
"
",
"if result != -1:
",
"    print('Success!')
",
"else:
",
"    print('Not found!')"
]
},
{
cell_type: "markdown",
metadata: { },
source: [
"### Quick Exercise 1
",
"
",
"Define a function __starts_with_B__ that takes a string as input and returns True if the string starts with B, False otherwise"
]
},
{
cell_type: "code",
execution_count: null,
metadata: { },
outputs: [ ],
source: [
"def starts_with_B(inp):
",
"    #write your code here
",
"    "
]
},
{
cell_type: "code",
execution_count: null,
metadata: { },
outputs: [ ],
source: [
"starts_with_B('Boyce')"
]
},
{
cell_type: "code",
execution_count: null,
metadata: { },
outputs: [ ],
source: [
"starts_with_B('Joyce')"
]
},
{
cell_type: "code",
execution_count: null,
metadata: { },
outputs: [ ],
source: [
"starts_with_B('Boyce Joyce')"
]
},
{
cell_type: "code",
execution_count: null,
metadata: { },
outputs: [ ],
source: [
"starts_with_B('Joyce Boyce')"
]
},
{
cell_type: "markdown",
metadata: { },
source: [
"### Quick Exercise 2
",
"Define a function __bigger(a,b)__ that takes two numbers a and b as input and returns True if and only if a is bigger than b."
]
},
{
cell_type: "code",
execution_count: null,
metadata: { },
outputs: [ ],
source: [
"# Define bigger(a,b)
",
"
",
"def bigger(a,b):
",
"    #write your code here
",
"
",
"bigger(4,3)"
]
},
{
cell_type: "code",
execution_count: null,
metadata: { },
outputs: [ ],
source: [
"bigger(1,2)"
]
},
{
cell_type: "code",
execution_count: null,
metadata: { },
outputs: [ ],
source: [
"bigger(1,2) == False"
]
},
{
cell_type: "code",
execution_count: null,
metadata: { },
outputs: [ ],
source: [
"bigger(2.1,1)"
]
},
{
cell_type: "markdown",
metadata: { },
source: [
"### Quick Exercise 3
",
"
",
"Define a function __biggest (a,b,c)__ that takes three numbers a,b and c as input and returns the biggest number"
]
},
{
cell_type: "code",
execution_count: null,
metadata: { },
outputs: [ ],
source: [
"# Nested if problem: Define a function biggest(a,b,c) which takes the largest of the three inputs and returns
",
"# the largest one. 
",
"
",
"def biggest(a,b,c):
",
"  #write your code here
"
]
},
{
cell_type: "code",
execution_count: null,
metadata: { },
outputs: [ ],
source: [
"biggest(1,2,3)"
]
},
{
cell_type: "code",
execution_count: null,
metadata: { },
outputs: [ ],
source: [
"biggest(4,3,1)"
]
},
{
cell_type: "code",
execution_count: null,
metadata: { },
outputs: [ ],
source: [
"biggest(4,8,1)"
]
},
{
cell_type: "markdown",
metadata: { },
source: [
"## Repetition
",
"
",
"### While
",
"
",
"The while loop continues iterating until it's condition stops being true:"
]
},
{
cell_type: "code",
execution_count: null,
metadata: { },
outputs: [ ],
source: [
"i = 0
",
"
",
"while i < 5:
",
"    i = i + 1
",
"    print(i) "
]
},
{
cell_type: "code",
execution_count: null,
metadata: { },
outputs: [ ],
source: [
"i = 0
",
"
",
"while i < 5:
",
"    print(i) 
",
"    i = i + 1"
]
},
{
cell_type: "code",
execution_count: null,
metadata: { },
outputs: [ ],
source: [
"# What happens here? 
",
"# Don't run it!
",
"# i = 0
",
"# while i != 11:
",
"#     i = i+2
",
"#     print i
",
"
",
"#the loop will never end because it will True always!!
",
"# in case want to end the loop, go to Kernel > Interrupt"
]
},
{
cell_type: "code",
execution_count: null,
metadata: { },
outputs: [ ],
source: [
"# A function that prints 'Dance' 3 times using the while loop
",
"# Some stylistic practices
",
"# print a string a number of times equal to the length of the string
",
"
",
"i=0
",
"while i < 3:
",
"    print("Dance")
",
"    i = i+1"
]
},
{
cell_type: "code",
execution_count: null,
metadata: { },
outputs: [ ],
source: [
"while True:
",
"    print('Dance')
",
"    break"
]
},
{
cell_type: "code",
execution_count: null,
metadata: { },
outputs: [ ],
source: [
"#Write a function my_sum that uses a while loop to sum all numbers from 0 to n
",
"
",
"def my_sum(n):
",
"    i = mysum = 0
",
"    
",
"    while i != n+1:
",
"        mysum = mysum + i
",
"        i+=1
",
"    
",
"    return(mysum)"
]
},
{
cell_type: "code",
execution_count: null,
metadata: { },
outputs: [ ],
source: [
"my_sum(2)"
]
},
{
cell_type: "code",
execution_count: null,
metadata: { },
outputs: [ ],
source: [
"my_sum(5)"
]
},
{
cell_type: "code",
execution_count: null,
metadata: { },
outputs: [ ],
source: [
"i = 0
",
"
",
"while True:
",
"    i = i+1
",
"    if i%2 == 0:
",
"        continue
",
"    else:
",
"        print("exit")
",
"    if i>= 10:
",
"        break
",
"    print(i)"
]
},
{
cell_type: "code",
execution_count: null,
metadata: { },
outputs: [ ],
source: [
"# Define a function called factorial(n)
",
"
",
"def factorial(n):
",
"    i = 1
",
"    result = 1
",
"
",
"    while i < n+1:
",
"        result = result * i
",
"        i += 1
",
"
",
"    return(result)"
]
},
{
cell_type: "code",
execution_count: null,
metadata: { },
outputs: [ ],
source: [
"factorial(3)"
]
},
{
cell_type: "code",
execution_count: null,
metadata: { },
outputs: [ ],
source: [
"factorial(5)"
]
},
{
cell_type: "code",
execution_count: null,
metadata: { },
outputs: [ ],
source: [
"import math
",
"
",
"math.factorial(1) == factorial(1)"
]
},
{
cell_type: "code",
execution_count: null,
metadata: { },
outputs: [ ],
source: [
"import math
",
"
",
"math.factorial(5) "
]
},
{
cell_type: "markdown",
metadata: { },
source: [
"### Quick Exercise 4
",
"
",
"Write a program that computes
",
"
",
"$$4\sum_{k=1}^{10^6}\frac{(-1)^{k+1}}{2k-1}$$
",
"
",
"Above segment means $$4\times(1-1/3+1/5-1/7+1/9-1/11...)$$"
]
},
{
cell_type: "code",
execution_count: null,
metadata: { },
outputs: [ ],
source: [
"k = 1
",
"result = 0
",
"
",
"#write your code here
",
"
",
"
",
"
",
"print(result)"
]
},
{
cell_type: "markdown",
metadata: { },
source: [
"### For
",
"
",
"For iterating over a collection or an iterater"
]
},
{
cell_type: "code",
execution_count: null,
metadata: { },
outputs: [ ],
source: [
"# write a for loop to sum all numbers for [3, 41, 12, 9, 74, 15]
",
"
",
"def listsum(numList):
",
"    theSum = 0
",
"    for i in numList:
",
"        theSum = theSum + i
",
"    return theSum
",
"
",
"listsum([3,41,12,9,74,15])
"
]
},
{
cell_type: "code",
execution_count: null,
metadata: { },
outputs: [ ],
source: [
"sequence = [1,2, None,4,None,5]
",
"total = 0
",
"
",
"for value in sequence:
",
"    if value is None:
",
"        continue    #skipping the remainder of the block
",
"    total += value
",
"
",
"total"
]
},
{
cell_type: "code",
execution_count: null,
metadata: { },
outputs: [ ],
source: [
"seq = [1,2,0,4,6,5,2,1]
",
"total_until_5 = 0
",
"
",
"for value in seq:
",
"    if value == 5:
",
"        break    #exit the loop
",
"    total_until_5 += value
",
"
",
"total_until_5"
]
},
{
cell_type: "code",
execution_count: null,
metadata: { },
outputs: [ ],
source: [
"#Use the for loop to count number of items in basket
",
"
",
"basket = ['banana','apple','durian','orange','rambutan']
",
"
",
"number = 0
",
"
",
"for item in basket:
",
"    number += 1
",
"
",
"number"
]
},
{
cell_type: "code",
execution_count: null,
metadata: { },
outputs: [ ],
source: [ ]
}
],
metadata: {
anaconda-cloud: { },
kernelspec: {
display_name: "Python 3 (ipykernel)",
language: "python",
name: "python3"
},
language_info: {
codemirror_mode: {
name: "ipython",
version: 3
},
file_extension: ".py",
mimetype: "text/x-python",
name: "python",
nbconvert_exporter: "python",
pygments_lexer: "ipython3",
version: "3.11.5"
}
},
nbformat: 4,
nbformat_minor: 1
}
