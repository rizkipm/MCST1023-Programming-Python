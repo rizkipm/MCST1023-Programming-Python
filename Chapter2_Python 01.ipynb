{
 "cells": [
  {
   "cell_type": "markdown",
   "metadata": {},
   "source": [
    "# CHAPTER 2\n",
    "# Built-in Data Structures and Functions & Files"
   ]
  },
  {
   "cell_type": "markdown",
   "metadata": {},
   "source": [
    "# 2.1 Data Structures and Sequences \n",
    "\n",
    "We'll start with Python's workhorse data structures: tuples, lists, dicts, and sets. \n",
    "\n",
    "## 2.1.1  Tuple\n",
    "\n",
    "A tuple is a fixed size grouping of elements, such as an (x, y) co-ordinate. Tuples are immutable and do not change size (tuples are not strictly immutable since one of the contained elements could be mutable). Tuples are a convenient way to pass around a little logical, fixed size bundle of values. A function that needs to return multiple values can just return a tuple of the values.\n",
    "\n",
    "<br>\n",
    "<img src=\"Figure1.jpg\", style=\"width: 600px\";>\n",
    "\n",
    "### 2.1.1.1    Creating Tuples\n",
    "\n",
    "The easiest way to create a Tuple is with a comma-separated sequence of values."
   ]
  },
  {
   "cell_type": "code",
   "execution_count": null,
   "metadata": {},
   "outputs": [],
   "source": [
    "t = 4,\n",
    "\n",
    "print(t)\n",
    "type(t)"
   ]
  },
  {
   "cell_type": "code",
   "execution_count": null,
   "metadata": {},
   "outputs": [],
   "source": [
    "tup = 4,5,6\n",
    "\n",
    "tup"
   ]
  },
  {
   "cell_type": "code",
   "execution_count": null,
   "metadata": {},
   "outputs": [],
   "source": [
    "type(tup)"
   ]
  },
  {
   "cell_type": "code",
   "execution_count": null,
   "metadata": {},
   "outputs": [],
   "source": [
    "a,b,c = 1,2,3\n",
    "\n",
    "print(a)\n",
    "print(b)\n",
    "print(c)\n",
    "print(type(a))"
   ]
  },
  {
   "cell_type": "code",
   "execution_count": null,
   "metadata": {},
   "outputs": [],
   "source": [
    "test = 1,2,3\n",
    "print(test)"
   ]
  },
  {
   "cell_type": "markdown",
   "metadata": {},
   "source": [
    "When you’re defining tuples in more complicated expressions, it’s often necessary to enclose the values in parentheses."
   ]
  },
  {
   "cell_type": "code",
   "execution_count": null,
   "metadata": {},
   "outputs": [],
   "source": [
    "# Example of creating a tuple of tuples\n",
    "\n",
    "nested_tup = (4,5,6),(7,8)\n",
    "\n",
    "nested_tup"
   ]
  },
  {
   "cell_type": "markdown",
   "metadata": {},
   "source": [
    "You can convert any sequence or iterator to a tuple by invoking tuple."
   ]
  },
  {
   "cell_type": "code",
   "execution_count": null,
   "metadata": {},
   "outputs": [],
   "source": [
    "x = tuple([4,0,2])\n",
    "y = 4,0,2\n",
    "\n",
    "print(x)\n",
    "print(y)"
   ]
  },
  {
   "cell_type": "markdown",
   "metadata": {},
   "source": [
    "Tuple converts a string into tuple of individual characters."
   ]
  },
  {
   "cell_type": "code",
   "execution_count": null,
   "metadata": {},
   "outputs": [],
   "source": [
    "tup = tuple('hello')\n",
    "tup1 = tuple(['hello']) \n",
    "print(tup)\n",
    "print(tup1)\n",
    "print(type(tup1))"
   ]
  },
  {
   "cell_type": "code",
   "execution_count": null,
   "metadata": {},
   "outputs": [],
   "source": [
    "tup = ('hello',)\n",
    "print(tup)\n",
    "print(type(tup))"
   ]
  },
  {
   "cell_type": "markdown",
   "metadata": {},
   "source": [
    "It also turns a list object into a tuple."
   ]
  },
  {
   "cell_type": "code",
   "execution_count": null,
   "metadata": {},
   "outputs": [],
   "source": [
    "list_of_objects = [1,2,3,4,5]\n",
    "print(type(list_of_objects))\n",
    "\n",
    "list_1 = tuple(list_of_objects)\n",
    "print(type(list_1))"
   ]
  },
  {
   "cell_type": "markdown",
   "metadata": {},
   "source": [
    "Elements can be accessed with square brackets [ ] as with most other sequence types. As in C, C++, Java, and many other languages, sequences are 0-indexed in Python."
   ]
  },
  {
   "cell_type": "code",
   "execution_count": null,
   "metadata": {},
   "outputs": [],
   "source": [
    "tup1 = tuple('python')\n",
    "print(tup1)\n",
    "\n",
    "tup1[0]"
   ]
  },
  {
   "cell_type": "markdown",
   "metadata": {},
   "source": [
    "While the objects stored in a tuple may be mutable themselves, once the tuple is created it’s not possible to modify which object is stored in each slot."
   ]
  },
  {
   "cell_type": "code",
   "execution_count": null,
   "metadata": {},
   "outputs": [],
   "source": [
    "tup = tuple(['amin',[1,2],True])\n",
    "print(tup)\n",
    "\n",
    "tup[0] = 'False'  # this will raise an error"
   ]
  },
  {
   "cell_type": "markdown",
   "metadata": {},
   "source": [
    "If an object inside a tuple is mutable (changeable), such as a list, you can modify it in-place."
   ]
  },
  {
   "cell_type": "code",
   "execution_count": null,
   "metadata": {},
   "outputs": [],
   "source": [
    "tup"
   ]
  },
  {
   "cell_type": "code",
   "execution_count": null,
   "metadata": {},
   "outputs": [],
   "source": [
    "tup[1]=[2,4,5]"
   ]
  },
  {
   "cell_type": "code",
   "execution_count": null,
   "metadata": {},
   "outputs": [],
   "source": [
    "tup[1].append(3)  # add an element at the end of the list [1,2]\n",
    "\n",
    "tup"
   ]
  },
  {
   "cell_type": "markdown",
   "metadata": {},
   "source": [
    "You can concatenate tuples using the __+__ operator to produce longer tuples."
   ]
  },
  {
   "cell_type": "code",
   "execution_count": null,
   "metadata": {},
   "outputs": [],
   "source": [
    "print(tup)\n",
    "print(tup1)"
   ]
  },
  {
   "cell_type": "code",
   "execution_count": null,
   "metadata": {},
   "outputs": [],
   "source": [
    "# Example 1\n",
    "print()\n",
    "add_tup = tup + tup1\n",
    "print(add_tup)\n",
    "type(add_tup)"
   ]
  },
  {
   "cell_type": "code",
   "execution_count": null,
   "metadata": {},
   "outputs": [],
   "source": [
    "# Example 2\n",
    "\n",
    "(4, None, 'amin')+(6,0)+('hello',)+(10,)  "
   ]
  },
  {
   "cell_type": "markdown",
   "metadata": {},
   "source": [
    "By puting a comma after the string 'hello', note that string hello is stored as one string (not as individual character). <span style=\"color:red\">Without the comma, it will raise an error</span>.\n",
    "\n",
    "Remember!! When creating a tuple with a single entry, you must add a comma after the entry (regardless it is a string or a number/value)."
   ]
  },
  {
   "cell_type": "markdown",
   "metadata": {},
   "source": [
    "<br>\n",
    "Multiplying a tuple by an integer, as with lists, has the effect of concatenating together that many copies of the tuple."
   ]
  },
  {
   "cell_type": "code",
   "execution_count": null,
   "metadata": {},
   "outputs": [],
   "source": [
    "('amin', 'ila')*3\n",
    "\n",
    "# Note that the objects themselves are not copied, only the references to them"
   ]
  },
  {
   "cell_type": "markdown",
   "metadata": {},
   "source": [
    "### 2.1.1.2    Unpacking Tuples\n",
    "\n",
    "If you try to assign to a tuple-like expression of variables, Python will attempt to unpack the value on the righthand side of the equals sign."
   ]
  },
  {
   "cell_type": "code",
   "execution_count": null,
   "metadata": {},
   "outputs": [],
   "source": [
    "tup = (4,5,6)\n",
    "\n",
    "a,b,c = tup   # the number of variables must equal to the number of elements in tuple\n",
    "\n",
    "print(a)\n",
    "print(b)\n",
    "print(c)"
   ]
  },
  {
   "cell_type": "markdown",
   "metadata": {},
   "source": [
    "Even sequences with nested tuples can be unpacked."
   ]
  },
  {
   "cell_type": "code",
   "execution_count": null,
   "metadata": {},
   "outputs": [],
   "source": [
    "tup = 4,5,(6,7)\n",
    "\n",
    "a,b,(c,d) = tup\n",
    "\n",
    "print(d)"
   ]
  },
  {
   "cell_type": "code",
   "execution_count": null,
   "metadata": {},
   "outputs": [],
   "source": [
    "tup2 = 4,5,(7,8)\n",
    "x,y,z = tup2\n",
    "\n",
    "print(z)\n",
    "print(z[0])"
   ]
  },
  {
   "cell_type": "markdown",
   "metadata": {},
   "source": [
    "Using this functionality you can easily swap variable names, a task which in many languages might look like\n",
    "\n",
    "    tmp = a\n",
    "    a = b\n",
    "    b = tmp\n",
    "\n",
    "But, in Python, the swap can be done like below."
   ]
  },
  {
   "cell_type": "code",
   "execution_count": null,
   "metadata": {},
   "outputs": [],
   "source": [
    "a,b = 1,2\n",
    "print('a =',a)\n",
    "print('b =', b)\n",
    "\n",
    "b,a = a,b\n",
    "print('After swapping')\n",
    "print('a =',a)\n",
    "print('b =',b)"
   ]
  },
  {
   "cell_type": "markdown",
   "metadata": {},
   "source": [
    "A common use of variable unpacking is iterating over sequences of tuples or lists."
   ]
  },
  {
   "cell_type": "code",
   "execution_count": null,
   "metadata": {},
   "outputs": [],
   "source": [
    "seq = [(1,2,3),(4,5,6),(7,8,9)]\n",
    "\n",
    "for a,b,c in seq:\n",
    "    print('a={0},b={1},c={2}'.format(b,a,c))\n",
    "    print(a)\n",
    "    print(b)\n",
    "    print(c)\n",
    "    \n"
   ]
  },
  {
   "cell_type": "markdown",
   "metadata": {},
   "source": [
    "The Python language recently acquired some more advanced tuple unpacking to help with situations where you may want to “pluck” a few elements from the beginning of a tuple. This uses the special syntax ***rest**, which is also used in function signatures to capture an arbitrarily long list of positional arguments."
   ]
  },
  {
   "cell_type": "code",
   "execution_count": null,
   "metadata": {},
   "outputs": [],
   "source": [
    "tup = (5,1,[7,8],3,'Python','Java','Ç++')\n",
    "print(tup)\n",
    "\n",
    "C, D, *_, A = tup\n",
    "print(A)\n",
    "#print(*rest)\n",
    "print(C)\n",
    "print(D)\n",
    "#print(*_)\n",
    "print(*_)"
   ]
  },
  {
   "cell_type": "code",
   "execution_count": null,
   "metadata": {},
   "outputs": [],
   "source": [
    "values = 1,2,3,4,5\n",
    "\n",
    "a,b,*rest = values\n",
    "\n",
    "print(rest)\n",
    "a,b"
   ]
  },
  {
   "cell_type": "markdown",
   "metadata": {},
   "source": [
    "This rest bit is sometimes something you want to discard; there is nothing special about the rest name. As a matter of convention, many Python programmers will use the underscore (_) for unwanted variables."
   ]
  },
  {
   "cell_type": "code",
   "execution_count": null,
   "metadata": {},
   "outputs": [],
   "source": [
    "a,b,*_ = values\n",
    "\n",
    "print(*_)"
   ]
  },
  {
   "cell_type": "markdown",
   "metadata": {},
   "source": [
    "### 2.1.1.3    Tuple Methods\n",
    "\n",
    "Since the size and contents of a tuple cannot be modified, it is very light on instance methods. A particularly useful one (also available on lists) is __count__, which counts the number of occurrences of a value."
   ]
  },
  {
   "cell_type": "code",
   "execution_count": null,
   "metadata": {},
   "outputs": [],
   "source": [
    "a = (1,2,2,2,3,4,2)\n",
    "\n",
    "a.count(2)"
   ]
  },
  {
   "cell_type": "markdown",
   "metadata": {},
   "source": [
    "## 2.1.2    List \n",
    "\n",
    "Well done so far!\n",
    "\n",
    "Now, we're going to introduce the list data type, and lists are much more powerful than strings, so whereas for a string, all of the elements had to be characters, in a list, the elements can be anything we want. They could be characters. They could be strings. They could be numbers. They could also be other lists.\n",
    "\n",
    "Like a string, a **list** is a sequence of values. In a string, the values are characters; in a list, they can be any type. The values in list are called **elements** or sometimes **items**.\n",
    "\n",
    "List elements are written within square brackets [ ]. Square brackets [ ] access data, with the first element at index 0.  Many of the operations defined above for strings also apply to lists. So it can be convenient to think of a string simply as a list of characters.\n",
    "\n",
    "In contrast with tuples, lists are variable-length and their contents can be modified in-place.\n",
    "\n",
    "\n",
    "\n",
    "__Difference between _array_ and _list___\n",
    "\n",
    "Arrays and lists are both used in Python to store data, but they don't serve exactly the same purposes. They both can be used to store any data type (real numbers, strings, etc), and they both can be indexed and iterated through, but the similarities between the two don't go much further. The main difference between a list and an array is the functions that you can perform to them. For example, you can divide an array by 3, and each number in the array will be divided by 3 and the result will be printed if you request it. If you try to divide a list by 3, Python will tell you that it can't be done, and an error will be thrown."
   ]
  },
  {
   "cell_type": "markdown",
   "metadata": {},
   "source": [
    "### 2.1.2.1   Creating List"
   ]
  },
  {
   "cell_type": "code",
   "execution_count": null,
   "metadata": {},
   "outputs": [],
   "source": [
    "a_list = [2,3,7,None]\n",
    "tup = ('amin', 'foo', 'david')\n",
    "\n",
    "print(a_list)\n",
    "print(type(a_list))\n",
    "print(tup)\n",
    "print(type(tup))"
   ]
  },
  {
   "cell_type": "code",
   "execution_count": null,
   "metadata": {},
   "outputs": [],
   "source": [
    "b_list = list(tup)\n",
    "print(b_list)\n",
    "print(type(b_list))"
   ]
  },
  {
   "cell_type": "code",
   "execution_count": null,
   "metadata": {},
   "outputs": [],
   "source": [
    "b_list"
   ]
  },
  {
   "cell_type": "code",
   "execution_count": null,
   "metadata": {},
   "outputs": [],
   "source": [
    "tup"
   ]
  },
  {
   "cell_type": "code",
   "execution_count": null,
   "metadata": {},
   "outputs": [],
   "source": [
    "# you can always modifies the list\n",
    "\n",
    "#tup[0]='aminah'\n",
    "\n",
    "b_list[1] = 'amirah'\n",
    "\n",
    "b_list\n"
   ]
  },
  {
   "cell_type": "markdown",
   "metadata": {},
   "source": [
    "Assignment with an __=__ on lists does not make a copy. Instead, assignment makes the two variables point to the one list in memory."
   ]
  },
  {
   "cell_type": "code",
   "execution_count": null,
   "metadata": {},
   "outputs": [],
   "source": [
    "b = a = [1,2,3,5,6]\n",
    "a.append(0)\n",
    "a = [4,5]\n",
    "print(b)\n",
    "print(a)\n",
    "\n",
    "# Note: The above is true for all objects in Python, not only lists."
   ]
  },
  {
   "cell_type": "markdown",
   "metadata": {},
   "source": [
    "Lists and tuples are semantically similar (though tuples cannot be modified) and can be used interchangeably in many functions. The list function is frequently used in data processing as a way to materialize an iterator or generator expression."
   ]
  },
  {
   "cell_type": "code",
   "execution_count": null,
   "metadata": {},
   "outputs": [],
   "source": [
    "gen = range(10)\n",
    "print(type(gen))\n",
    "print(gen)"
   ]
  },
  {
   "cell_type": "code",
   "execution_count": null,
   "metadata": {},
   "outputs": [],
   "source": [
    "c_list=list(gen)\n",
    "print(type(c_list))\n",
    "print(c_list)"
   ]
  },
  {
   "cell_type": "code",
   "execution_count": null,
   "metadata": {},
   "outputs": [],
   "source": [
    "colors = ['red', 'blue', 'green']\n",
    "print(colors[0])\n",
    "print(colors[1])\n",
    "print(colors[2])\n",
    "print()"
   ]
  },
  {
   "cell_type": "code",
   "execution_count": null,
   "metadata": {},
   "outputs": [],
   "source": [
    "numbers = [5, 4, 3, 2, 1, 'hello', 2.3]\n",
    "print(len(numbers))"
   ]
  },
  {
   "cell_type": "code",
   "execution_count": null,
   "metadata": {},
   "outputs": [],
   "source": [
    "list_of_lists = [[1,2,3],[4,5,6],[7,8,9]]\n",
    "print(list_of_lists)\n",
    "print(len(list_of_lists))"
   ]
  },
  {
   "cell_type": "code",
   "execution_count": null,
   "metadata": {},
   "outputs": [],
   "source": [
    "# Empty list\n",
    "c = []\n",
    "print(c)\n",
    "print(len(c))"
   ]
  },
  {
   "cell_type": "markdown",
   "metadata": {},
   "source": [
    "### 2.1.2.2   Adding and Removing Elements in List\n",
    "\n",
    "\n",
    "\n",
    "Elements can be appended to the end of the list with the __append__ method."
   ]
  },
  {
   "cell_type": "code",
   "execution_count": null,
   "metadata": {},
   "outputs": [],
   "source": [
    "c_list = ['Legolas','Gimli','Saruman','Frodo','Merry','Pippin', \n",
    "          'Merry','Gimli']\n",
    "\n",
    "c_list.append('Sam')\n",
    "c_list.append('Boromir')\n",
    "\n",
    "print(c_list)"
   ]
  },
  {
   "cell_type": "markdown",
   "metadata": {},
   "source": [
    "Using __insert__ you can insert an element at a specific location in the list. The insertion index must be between 0 and the length of the list, inclusive."
   ]
  },
  {
   "cell_type": "code",
   "execution_count": null,
   "metadata": {},
   "outputs": [],
   "source": [
    "c_list.insert?"
   ]
  },
  {
   "cell_type": "code",
   "execution_count": null,
   "metadata": {},
   "outputs": [],
   "source": [
    "c_list.insert(1,'Aragorn')\n",
    "print(c_list)"
   ]
  },
  {
   "cell_type": "code",
   "execution_count": null,
   "metadata": {},
   "outputs": [],
   "source": [
    "c_list.insert(3,'Gandalf')\n",
    "\n",
    "print(c_list)"
   ]
  },
  {
   "cell_type": "markdown",
   "metadata": {},
   "source": [
    "Insert is computationally expensive compared with append, because references to subsequent elements have to be shifted internally to make room for the new element. If you need to insert elements at both the beginning and end of a sequence, you may wish to explore __collections.deque__, a double-ended queue, for this purpose.\n",
    "\n",
    "The inverse operation to insert is __pop__, which removes and returns an element at a particular index."
   ]
  },
  {
   "cell_type": "code",
   "execution_count": null,
   "metadata": {},
   "outputs": [],
   "source": [
    "print(c_list)"
   ]
  },
  {
   "cell_type": "code",
   "execution_count": null,
   "metadata": {},
   "outputs": [],
   "source": [
    "c_list.pop(5)"
   ]
  },
  {
   "cell_type": "code",
   "execution_count": null,
   "metadata": {},
   "outputs": [],
   "source": [
    "print(c_list)"
   ]
  },
  {
   "cell_type": "markdown",
   "metadata": {},
   "source": [
    "The __del__ operator does deletions. In the simplest case, it can remove the definition of a variable, as if that variable had not been defined. __del__ can also be used on list elements or slices to delete that part of the list."
   ]
  },
  {
   "cell_type": "code",
   "execution_count": null,
   "metadata": {},
   "outputs": [],
   "source": [
    "del c_list[0]\n",
    "print(c_list)"
   ]
  },
  {
   "cell_type": "code",
   "execution_count": null,
   "metadata": {},
   "outputs": [],
   "source": [
    "del c_list[-2:]\n",
    "print(c_list)"
   ]
  },
  {
   "cell_type": "markdown",
   "metadata": {},
   "source": [
    "Elements can be removed by value with __remove__, which locates the first such value and removes it from the list."
   ]
  },
  {
   "cell_type": "code",
   "execution_count": null,
   "metadata": {},
   "outputs": [],
   "source": [
    "print(c_list)\n",
    "print()\n",
    "c_list.remove('Gimli')\n",
    "print(c_list)"
   ]
  },
  {
   "cell_type": "markdown",
   "metadata": {},
   "source": [
    "If performance is not a concern, by using append and remove, you can use a Python list as a perfectly suitable “multiset” data structure."
   ]
  },
  {
   "cell_type": "code",
   "execution_count": null,
   "metadata": {},
   "outputs": [],
   "source": [
    "# Check if a list contains a value using the in keyword\n",
    "\n",
    "print('Saruman' in c_list)\n",
    "print('Legolas' in c_list)"
   ]
  },
  {
   "cell_type": "markdown",
   "metadata": {},
   "source": [
    "### Quick Exercise 1\n",
    "\n",
    "By looking at *c_list* below, how to remove all the occurances of 'Merry'?"
   ]
  },
  {
   "cell_type": "code",
   "execution_count": null,
   "metadata": {},
   "outputs": [],
   "source": [
    "c_list"
   ]
  },
  {
   "cell_type": "code",
   "execution_count": null,
   "metadata": {},
   "outputs": [],
   "source": [
    "# Write your code here\n",
    "# Hint: You can use for loop\n"
   ]
  },
  {
   "cell_type": "markdown",
   "metadata": {},
   "source": [
    "Checking whether a list contains a value is a lot slower than doing so with dicts and sets (to be introduced later), as Python makes a linear scan across the values of the list, whereas it can check the others (based on hash tables) in constant time.\n",
    "\n",
    "### 2.1.2.3    Concatenating and Combining Lists"
   ]
  },
  {
   "cell_type": "code",
   "execution_count": null,
   "metadata": {},
   "outputs": [],
   "source": [
    "# Similar to tuples, adding two lists together with + concatenates them\n",
    "\n",
    "[4,None,'amin'] + [7,8,(2,3)] "
   ]
  },
  {
   "cell_type": "markdown",
   "metadata": {},
   "source": [
    "If you have a list already defined, you can append multiple elements to it using the __extend__ method."
   ]
  },
  {
   "cell_type": "code",
   "execution_count": null,
   "metadata": {},
   "outputs": [],
   "source": [
    "x = [4,None,'amin']\n",
    "\n",
    "x.extend([7,8,(2,3)])\n",
    "x.append([1,2])\n",
    "x"
   ]
  },
  {
   "cell_type": "markdown",
   "metadata": {},
   "source": [
    "Note that list concatenation by addition is a comparatively expensive operation since a new list must be created and the objects copied over. Using __extend__ to append elements to an existing list, especially if you are building up a large list, is usually preferable."
   ]
  },
  {
   "cell_type": "code",
   "execution_count": null,
   "metadata": {},
   "outputs": [],
   "source": [
    "d_list = ['Frodo', 'Sam']\n",
    "\n",
    "everything = []\n",
    "\n",
    "for item in d_list:\n",
    "    everything.extend(d_list)\n",
    "\n",
    "everything"
   ]
  },
  {
   "cell_type": "markdown",
   "metadata": {},
   "source": [
    "### 2.1.2.4    Sorting Lists\n",
    "\n",
    "You can sort a list in-place (without creating a new object) by calling its __sort__ function."
   ]
  },
  {
   "cell_type": "code",
   "execution_count": null,
   "metadata": {},
   "outputs": [],
   "source": [
    "a = [7,2,5,1,3]\n",
    "\n",
    "a.sort()\n",
    "\n",
    "a"
   ]
  },
  {
   "cell_type": "code",
   "execution_count": null,
   "metadata": {},
   "outputs": [],
   "source": [
    "a.sort?"
   ]
  },
  {
   "cell_type": "markdown",
   "metadata": {},
   "source": [
    "__sort__ has a few options that will occasionally come in handy. One is the ability to pass a secondary ___sort key___—that is, a function that produces a value to use to sort the objects. For example, we could sort a collection of strings by their lengths.\n",
    "\n",
    "By default, sort() doesn't require any extra parameters. However, it has two optional parameters:\n",
    "<br>\n",
    "(i)  reverse - If true, the sorted list is reversed (or sorted in Descending order) <br>\n",
    "(ii) key - function that serves as a key for the sort comparison"
   ]
  },
  {
   "cell_type": "code",
   "execution_count": null,
   "metadata": {},
   "outputs": [],
   "source": [
    "b = ['six','foxes','He','small','saw']\n",
    "\n",
    "#b.sort()\n",
    "b.sort(key=len)\n",
    "\n",
    "b\n",
    "# Note that if two strings have the same length, \n",
    "# it will appear according to the order of their occurance "
   ]
  },
  {
   "cell_type": "code",
   "execution_count": null,
   "metadata": {},
   "outputs": [],
   "source": [
    "b.sort(reverse = True)\n",
    "\n",
    "print(b)\n",
    "\n",
    "b.sort()\n",
    "print(b)"
   ]
  },
  {
   "cell_type": "code",
   "execution_count": null,
   "metadata": {},
   "outputs": [],
   "source": [
    "b = ['six','foxes','He','small','saw']\n",
    "\n",
    "b.sort(reverse = True, key = len)\n",
    "print(b)"
   ]
  },
  {
   "cell_type": "code",
   "execution_count": null,
   "metadata": {},
   "outputs": [],
   "source": [
    "b.sort(key = len)\n",
    "print(b)"
   ]
  },
  {
   "cell_type": "markdown",
   "metadata": {},
   "source": [
    "Soon, we’ll look at the sorted function, which can produce a sorted copy of a general sequence."
   ]
  },
  {
   "cell_type": "markdown",
   "metadata": {},
   "source": [
    "### 2.1.2.5   Binary Search and Maintaining a Sorted List\n",
    "\n",
    "The built-in __bisect__ module implements binary search and insertion into a sorted list. \n",
    "\n",
    "__bisect.bisect__ finds the location where an element should be inserted to keep it sorted, while __bisect.insort__ actually inserts the element into that location."
   ]
  },
  {
   "cell_type": "code",
   "execution_count": null,
   "metadata": {},
   "outputs": [],
   "source": [
    "import bisect\n",
    "\n",
    "c = [1,2,2,2,3,4,7]\n",
    "\n",
    "bisect.bisect(c,5)  # value 5 should be inserted at 6th location "
   ]
  },
  {
   "cell_type": "code",
   "execution_count": null,
   "metadata": {},
   "outputs": [],
   "source": [
    "bisect.bisect(c,8)  # value 8 should be inserted at 7th location"
   ]
  },
  {
   "cell_type": "code",
   "execution_count": null,
   "metadata": {},
   "outputs": [],
   "source": [
    "c"
   ]
  },
  {
   "cell_type": "code",
   "execution_count": null,
   "metadata": {},
   "outputs": [],
   "source": [
    "bisect.insort(c,8)\n",
    "\n",
    "c"
   ]
  },
  {
   "cell_type": "markdown",
   "metadata": {},
   "source": [
    "The __bisect__ module functions do not check whether the list is sorted, as doing so would be computationally expensive. Thus, using them with an unsorted list will succeed without error but may lead to incorrect results."
   ]
  },
  {
   "cell_type": "code",
   "execution_count": null,
   "metadata": {},
   "outputs": [],
   "source": [
    "c = [1,2,8,5,3,4,7]\n",
    "bisect.insort(c,6)\n",
    "c"
   ]
  },
  {
   "cell_type": "markdown",
   "metadata": {},
   "source": [
    "### Quick Exercise 2\n",
    "\n",
    "Given an ordered list of courses as below:\n",
    "\n",
    "(i)  find the location where course *SCSP 3223* should be inserted <br>\n",
    "(ii) insert the course into the list"
   ]
  },
  {
   "cell_type": "code",
   "execution_count": null,
   "metadata": {},
   "outputs": [],
   "source": [
    "import bisect\n",
    "\n",
    "courses = ['SCSI 1103', 'SCSJ 1013', 'SCSJ 3213', 'SCSR 2103', 'SCSV 4312']\n",
    "\n",
    "# Write your code here\n"
   ]
  },
  {
   "cell_type": "markdown",
   "metadata": {},
   "source": [
    "### 2.1.2.6    Slicing\n",
    "\n",
    "You can select sections of most sequence types by using slice notation, which in its basic form consists of __start:stop__ passed to the indexing operator [ ].\n",
    "\n",
    "While the element at the __start__ index is included, the __stop__ index is not included, so that the number of elements in the result is __stop - start__.\n",
    "\n",
    "<br>\n",
    "<img src=\"Figure3.jpg\", style=\"width: 300px\";>"
   ]
  },
  {
   "cell_type": "code",
   "execution_count": null,
   "metadata": {},
   "outputs": [],
   "source": [
    "seq = [7,2,3,7,5,6,0,1]\n",
    "\n",
    "seq[1:5]    # sliced the items at index 1 up to 4 only (index 5 is excluded)"
   ]
  },
  {
   "cell_type": "markdown",
   "metadata": {},
   "source": [
    "Slicing a list doesn't change the original list."
   ]
  },
  {
   "cell_type": "code",
   "execution_count": null,
   "metadata": {},
   "outputs": [],
   "source": [
    "print(seq)\n",
    "print(len(seq))"
   ]
  },
  {
   "cell_type": "markdown",
   "metadata": {},
   "source": [
    "Slices can also be assigned to with a sequence. The original list will change!"
   ]
  },
  {
   "cell_type": "code",
   "execution_count": null,
   "metadata": {},
   "outputs": [],
   "source": [
    "seq[3:5] = [16]    # sliced the item at index 3 (index 4 is excluded), insert value 6 at index 3   \n",
    "\n",
    "print(seq)\n",
    "print(len(seq))"
   ]
  },
  {
   "cell_type": "code",
   "execution_count": null,
   "metadata": {},
   "outputs": [],
   "source": [
    "seq[3:4] = [9,8]    # sliced the item at index 3 (index 4 is excluded), insert value 9,8 at index 3   \n",
    "\n",
    "print(seq)\n",
    "print(len(seq))"
   ]
  },
  {
   "cell_type": "code",
   "execution_count": null,
   "metadata": {},
   "outputs": [],
   "source": [
    "seq[4]"
   ]
  },
  {
   "cell_type": "markdown",
   "metadata": {},
   "source": [
    "Either the __start__ or __stop__ can be omitted, in which case they default to the start of the sequence and the end of the sequence, respectively."
   ]
  },
  {
   "cell_type": "code",
   "execution_count": null,
   "metadata": {},
   "outputs": [],
   "source": [
    "seq[:5]    # sliced the list up to index 5 (index 5 is excluded)"
   ]
  },
  {
   "cell_type": "code",
   "execution_count": null,
   "metadata": {},
   "outputs": [],
   "source": [
    "seq[3:]   # sliced the list starts from index 3 to the end"
   ]
  },
  {
   "cell_type": "code",
   "execution_count": null,
   "metadata": {},
   "outputs": [],
   "source": [
    "seq[-4:]   # sliced the list from the last 4 indexes"
   ]
  },
  {
   "cell_type": "code",
   "execution_count": null,
   "metadata": {},
   "outputs": [],
   "source": [
    "seq[-6:-2]   # sliced the list starts from the last 6 indexes up to 2nd last index (excluded)"
   ]
  },
  {
   "cell_type": "markdown",
   "metadata": {},
   "source": [
    "Slicing semantics takes a bit of getting used to, especially if you’re coming from R or MATLAB. See figure below for a helpful illustration of slicing with positive and negative integers. In the figure, the indices are shown at the “bin edges” to help show where the slice selections start and stop using positive or negative indices.\n",
    "\n",
    "<br>\n",
    "<img src=\"Figure2.jpg\", style=\"width: 400px\";>\n"
   ]
  },
  {
   "cell_type": "markdown",
   "metadata": {},
   "source": [
    "A __step__ can also be used after a second colon to, say, take every other element."
   ]
  },
  {
   "cell_type": "code",
   "execution_count": null,
   "metadata": {},
   "outputs": [],
   "source": [
    "print(seq)\n",
    "print(seq[::2])\n",
    "print(seq[::1])\n",
    "print(seq[::3])"
   ]
  },
  {
   "cell_type": "markdown",
   "metadata": {},
   "source": [
    "A clever use of this is to pass __-1__, which has the useful effect of reversing a list or tuple."
   ]
  },
  {
   "cell_type": "code",
   "execution_count": null,
   "metadata": {},
   "outputs": [],
   "source": [
    "print(seq)\n",
    "\n",
    "print(seq[::])\n",
    "print(seq[::-1])"
   ]
  },
  {
   "cell_type": "markdown",
   "metadata": {},
   "source": [
    "## 2.1.3    Built-in Sequence Function\n",
    "\n",
    "Python has a handful of useful sequence functions that you should familiarize yourself with and use at any opportunity.\n",
    "\n",
    "### 2.1.3.1    enumerate <br>\n",
    "It’s common when iterating over a sequence to want to keep track of the index of the current item. A do-it-yourself approach would look like:\n",
    "\n",
    "    i = 0 \n",
    "    for value in collection:   \n",
    "        #do something with value\n",
    "        i += 1 \n",
    "\n",
    "Since this is so common, Python has a built-in function, __enumerate__, which returns a sequence of (i, value) tuples:\n",
    "\n",
    "    for i, value in enumerate(collection):   \n",
    "        #do something with value \n",
    "\n",
    "When you are indexing data, a helpful pattern that uses __enumerate__ is computing a __dict__ mapping the values of a sequence (which are assumed to be unique) to their locations in the sequence.\n",
    "\n",
    "<br>\n",
    "<img src=\"Figure6.jpg\", style=\"width: 500px\";>\n"
   ]
  },
  {
   "cell_type": "code",
   "execution_count": null,
   "metadata": {},
   "outputs": [],
   "source": [
    "my_fruit_list = ['apple', 'banana', 'grapes', 'pear']\n",
    "\n",
    "for f, value in enumerate(my_fruit_list,1):  # start the index from 1 instead of 0\n",
    "    print(f, value)\n"
   ]
  },
  {
   "cell_type": "code",
   "execution_count": null,
   "metadata": {},
   "outputs": [],
   "source": [
    "some_list = ['foo', 'baz', 'bar']\n",
    "\n",
    "mapping = {}\n",
    "\n",
    "for i,v in enumerate(some_list):\n",
    "    mapping[v] = i\n",
    "\n",
    "mapping"
   ]
  },
  {
   "cell_type": "code",
   "execution_count": null,
   "metadata": {},
   "outputs": [],
   "source": [
    "# returns a list whose items are the same and in the same order as iterable‘s items\n",
    "\n",
    "choices = ['pizza', 'pasta', 'salad', 'nachos']\n",
    "\n",
    "print(enumerate(choices,1))\n",
    "\n",
    "list(enumerate(choices,1))\n",
    "#enumerate(choices)"
   ]
  },
  {
   "cell_type": "code",
   "execution_count": null,
   "metadata": {},
   "outputs": [],
   "source": [
    "tuple(enumerate(choices))"
   ]
  },
  {
   "cell_type": "code",
   "execution_count": null,
   "metadata": {},
   "outputs": [],
   "source": [
    "dict(enumerate(choices))"
   ]
  },
  {
   "cell_type": "markdown",
   "metadata": {},
   "source": [
    "### 2.1.3.2    sorted\n",
    "\n",
    "The sorted function returns a new sorted list from the elements of any sequence."
   ]
  },
  {
   "cell_type": "code",
   "execution_count": null,
   "metadata": {},
   "outputs": [],
   "source": [
    "a = [7,1,2,6,0,3,2]\n",
    "a.sort()\n",
    "a"
   ]
  },
  {
   "cell_type": "code",
   "execution_count": null,
   "metadata": {},
   "outputs": [],
   "source": [
    "sorted([7,1,2,6,0,3,2])"
   ]
  },
  {
   "cell_type": "code",
   "execution_count": null,
   "metadata": {},
   "outputs": [],
   "source": [
    "sorted(['Python','Class'])"
   ]
  },
  {
   "cell_type": "markdown",
   "metadata": {},
   "source": [
    "### Quick Exercise 3\n",
    "\n",
    "Given an unordered list of courses as below:\n",
    "\n",
    "(i)   sort the list <br>\n",
    "(ii)  find the location where course SCSP 3223 should be inserted <br>\n",
    "(iii) insert the course into the list"
   ]
  },
  {
   "cell_type": "code",
   "execution_count": null,
   "metadata": {},
   "outputs": [],
   "source": [
    "import bisect\n",
    "\n",
    "courses = ['SCSJ 1013','SCSR 2103', 'SCSJ 3213','SCSV 4312', 'SCSI 1103']\n",
    "\n",
    "# Write your code here\n"
   ]
  },
  {
   "cell_type": "markdown",
   "metadata": {},
   "source": [
    "### 2.1.3.3    zip\n",
    "\n",
    "__zip__ “pairs” up the elements of a number of lists, tuples, or other sequences to create a list of tuples.\n",
    "\n",
    "<br>\n",
    "<img src=\"Figure4.jpg\", style=\"width: 300px\";>\n"
   ]
  },
  {
   "cell_type": "code",
   "execution_count": null,
   "metadata": {},
   "outputs": [],
   "source": [
    "seq1 = ['foo', 'baz', 'bar']\n",
    "seq2 = ['one','two','three']\n",
    "\n",
    "zipped = zip(seq1,seq2)\n",
    "\n",
    "print(zipped)"
   ]
  },
  {
   "cell_type": "code",
   "execution_count": null,
   "metadata": {},
   "outputs": [],
   "source": [
    "x = list(zipped)\n",
    "print(type(x))\n",
    "print(x)"
   ]
  },
  {
   "cell_type": "code",
   "execution_count": null,
   "metadata": {},
   "outputs": [],
   "source": [
    "s1, s2 = zip(*x)\n",
    "print(s1)\n",
    "print(s2)"
   ]
  },
  {
   "cell_type": "markdown",
   "metadata": {},
   "source": [
    "__zip__ can take an arbitrary number of sequences, and the number of elements it produces is determined by the shortest sequence.\n",
    "\n",
    "<br>\n",
    "<img src=\"Figure5.jpg\", style=\"width: 300px\";>"
   ]
  },
  {
   "cell_type": "code",
   "execution_count": null,
   "metadata": {},
   "outputs": [],
   "source": [
    "seq3 = [False, True]\n",
    "\n",
    "y = list(zip(seq1,seq2,seq3))\n",
    "print(y)\n",
    "\n",
    "print()\n",
    "s1, s2, s3 = zip(*y)\n",
    "print(s1)\n",
    "print(s2)\n",
    "print(s3)\n"
   ]
  },
  {
   "cell_type": "code",
   "execution_count": null,
   "metadata": {},
   "outputs": [],
   "source": [
    "print(seq1)\n",
    "print(seq2)"
   ]
  },
  {
   "cell_type": "markdown",
   "metadata": {},
   "source": [
    "A very common use of __zip__ is simultaneously iterating over multiple sequences, possibly also combined with __enumerate__."
   ]
  },
  {
   "cell_type": "code",
   "execution_count": null,
   "metadata": {},
   "outputs": [],
   "source": [
    "list(enumerate(zip(seq1,seq2),1))"
   ]
  },
  {
   "cell_type": "code",
   "execution_count": null,
   "metadata": {},
   "outputs": [],
   "source": [
    "for i, (a,b) in enumerate(zip(seq1,seq2)):\n",
    "    print('{0}:{1},{2}'.format(i,a,b))"
   ]
  },
  {
   "cell_type": "markdown",
   "metadata": {},
   "source": [
    "Given a “zipped” sequence, __zip__ can be applied in a clever way to “unzip” the sequence. Another way to think about this is converting a list of *rows* into a list of *columns*. The syntax, which looks a bit magical, is shown below."
   ]
  },
  {
   "cell_type": "code",
   "execution_count": null,
   "metadata": {},
   "outputs": [],
   "source": [
    "person = [('Misbun','Sidek'),('Chong Wei','Lee'),('Mei Choo','Wong')]\n",
    "\n",
    "first_names, last_names = zip(*person)\n",
    "\n",
    "print(first_names)\n",
    "print(last_names)"
   ]
  },
  {
   "cell_type": "markdown",
   "metadata": {},
   "source": [
    "### 2.1.3.4    reversed\n",
    "\n",
    "__reversed__ iterates over the elements of a sequence in reverse order. \n",
    "\n",
    "The __range(n)__ function used in below code yields the numbers 0, 1, ... (*n*-1), and range(a, b) returns a, a+1, ... b-1 -- up to but not including the last number. "
   ]
  },
  {
   "cell_type": "code",
   "execution_count": null,
   "metadata": {},
   "outputs": [],
   "source": [
    "y = list(range(10))\n",
    "print(y)\n",
    "\n",
    "x = list(reversed(y))\n",
    "print(x)\n",
    "\n",
    "print(y[::-1])"
   ]
  },
  {
   "cell_type": "code",
   "execution_count": null,
   "metadata": {},
   "outputs": [],
   "source": [
    "# Example of range usage\n",
    "\n",
    "a1 = list(range(100, 110))\n",
    "print(a1)\n",
    "\n",
    "a2 = list(range(20,10,-2)) #start from 20, decrement of 2, until 10\n",
    "print(a2)"
   ]
  },
  {
   "cell_type": "markdown",
   "metadata": {},
   "source": [
    "Keep in mind that __reversed__ is a generator (to be discussed in some more detail later), so it does not create the reversed sequence until materialized (e.g., with __list__ or a __for__ loop."
   ]
  },
  {
   "cell_type": "markdown",
   "metadata": {},
   "source": [
    "## 2.1.4 Hash Function and dict\n",
    "\n",
    "### Hash Function\n",
    "\n",
    "The reason __find(element, list)__ was so slow is that we were doing this for loop, we were going through all the elements in order, and we're checking if they match the keyword.  To determine that a keyword not in the list is not there, we had to go through the whole index.\n",
    "\n",
    "That's slow.  What might be a better way to go through a list?\n",
    "\n",
    "You can sort it - it'll be like an index? But that takes time and effort too and isn't necessary!\n",
    "\n",
    "What we want is something that will allow us, given a keyword, to have some\n",
    "function that tells us where it belongs. That's called a hash function.\n",
    "\n",
    "The **Hash function** tells us where in the entry to look. Instead of looking through the whole index, you can just look at where it belongs.\n",
    "\n",
    "One easy way is using the first letter of a word. But there are problems with this:\n",
    "* It works best if you have roughly equal buckets of words.\n",
    "* If you have a million keywords, it only makes things 26 times faster at best\n",
    "\n",
    "Let's use some function on the whole 'key' or 'keyword' that will be able to tell us where it belongs. \n",
    "\n",
    "A hash function is a function that takes in a keyword, produces a number.  It outputs the position in the hash table which is the bucket where that keyword would appear."
   ]
  },
  {
   "cell_type": "markdown",
   "metadata": {},
   "source": [
    "###  dict\n",
    "\n",
    "Fortunately, Python has a built in hash table structure.\n",
    "\n",
    "Python's efficient key/value hash table structure is called a __dict__.\n",
    "\n",
    "A dictionary is similar to a list, but you access values by looking up a key instead of an index. A *key* can be any string or number.\n",
    "\n",
    "The contents of a __dict__ can be written as a series of *key:value* pairs within braces { }, e.g. dict = {key1:value1, key2:value2, ... }.\n",
    "\n",
    "The \"empty dict\" is just an empty pair of curly braces {}.\n",
    "\n",
    "Looking up or setting a value in a __dict__ uses square brackets, e.g. dict['foo'] looks up the value under the key 'foo'. Strings, numbers, and tuples work as keys, and any type can be a value. Other types may or may not work correctly as keys.\n",
    "\n",
    "Dictionaries are mutable!\n",
    "\n",
    "__dict__ is likely the most important built-in Python data structure. A more common name for it is *hash map* or *associative array*. It is a flexibly sized collection of *key-value* pairs, where *key* and *value* are Python objects. One approach for creating one is to use curly braces { } and colons to separate keys and values."
   ]
  },
  {
   "cell_type": "markdown",
   "metadata": {},
   "source": [
    "<br>\n",
    "<br>\n",
    "\n",
    "### Dictionary Methods\n",
    "\n",
    "- len(dict) -- Gives the total length of the dictionary. This would be equal to the number of items in the dictionary.\n",
    "- str(dict) -- Produces a printable string representation of a dictionary\n",
    "- type(variable) -- Returns the type of the passed variable. If passed variable is dictionary, then it would return a dictionary type.\n",
    "- dict.clear() -- Removes all elements of dictionary dict\n",
    "- dict.copy() -- Returns a shallow copy of dictionary dict\n",
    "- dict.fromkeys() -- Create a new dictionary with keys from seq and values set to value.\n",
    "- dict.get(key, default = None) -- For key key, returns value or default if key not in dictionary\n",
    "- dict.items() -- Returns a list of dict's (key, value) tuple pairs\n",
    "- dict.keys() -- Returns list of dictionary dict's keys\n",
    "- dict.setdefault(key, default = None) -- Similar to get(), but will set dict[key]=default if key is not already in dict\n",
    "- dict.update(dict2) -- Adds dictionary dict2's key-values pairs to dict\n",
    "- dict.values() -- Returns list of dictionary dict's values\n",
    "\n",
    "\n",
    "<br>\n",
    "<img src=\"Figure7.jpg\", style=\"width: 300px\";>\n",
    "\n"
   ]
  },
  {
   "cell_type": "code",
   "execution_count": null,
   "metadata": {},
   "outputs": [],
   "source": [
    "d1 = {}\n",
    "\n",
    "d1 = {'a':'some value', 'b':[1,2,3,4]}\n",
    "\n",
    "print(d1)\n",
    "\n",
    "len(d1)"
   ]
  },
  {
   "cell_type": "code",
   "execution_count": null,
   "metadata": {},
   "outputs": [],
   "source": [
    "print(type(d1))\n",
    "print(d1['b'])"
   ]
  },
  {
   "cell_type": "code",
   "execution_count": null,
   "metadata": {},
   "outputs": [],
   "source": [
    "#to list all the keys and its value\n",
    "for k in d1: #iterate over the keys\n",
    "    print(k,d1[k])\n"
   ]
  },
  {
   "cell_type": "code",
   "execution_count": null,
   "metadata": {},
   "outputs": [],
   "source": [
    "print(d1.items())\n",
    "for v in d1.items(): #iterate over the value\n",
    "    print(v)"
   ]
  },
  {
   "cell_type": "code",
   "execution_count": null,
   "metadata": {},
   "outputs": [],
   "source": [
    "for i,v in d1.items(): #iterate over the value\n",
    "    print(i,v)"
   ]
  },
  {
   "cell_type": "markdown",
   "metadata": {},
   "source": [
    "You can access, insert, or set elements using the same syntax as for accessing elements of a list or tuple. "
   ]
  },
  {
   "cell_type": "code",
   "execution_count": null,
   "metadata": {},
   "outputs": [],
   "source": [
    "d1"
   ]
  },
  {
   "cell_type": "code",
   "execution_count": null,
   "metadata": {},
   "outputs": [],
   "source": [
    "d1[7] = 'an integer'\n",
    "\n",
    "print(d1)\n",
    "print(d1[7])"
   ]
  },
  {
   "cell_type": "markdown",
   "metadata": {},
   "source": [
    "You can also use __get__ function. If the key is not in dict, it will return key error unless we specify the default value, it will not return any key error message."
   ]
  },
  {
   "cell_type": "code",
   "execution_count": null,
   "metadata": {},
   "outputs": [],
   "source": [
    "d1"
   ]
  },
  {
   "cell_type": "code",
   "execution_count": null,
   "metadata": {},
   "outputs": [],
   "source": [
    "d1.get('a')"
   ]
  },
  {
   "cell_type": "code",
   "execution_count": null,
   "metadata": {},
   "outputs": [],
   "source": [
    "d1.get('z')"
   ]
  },
  {
   "cell_type": "code",
   "execution_count": null,
   "metadata": {},
   "outputs": [],
   "source": [
    "d1.get('z','sorry not found')"
   ]
  },
  {
   "cell_type": "markdown",
   "metadata": {},
   "source": [
    "You can check if a __dict__ contains a key using the same syntax used for checking whether a list or tuple contains a value."
   ]
  },
  {
   "cell_type": "code",
   "execution_count": null,
   "metadata": {},
   "outputs": [],
   "source": [
    "'b' in d1"
   ]
  },
  {
   "cell_type": "markdown",
   "metadata": {},
   "source": [
    "You can delete values either using the __del__ keyword or the __pop__ method (which simultaneously returns the value and deletes the key)."
   ]
  },
  {
   "cell_type": "code",
   "execution_count": null,
   "metadata": {},
   "outputs": [],
   "source": [
    "d1[5] = 'some value'\n",
    "print(d1)\n",
    "\n",
    "print()\n",
    "\n",
    "d1['dummy'] = 'another value'\n",
    "print(d1)"
   ]
  },
  {
   "cell_type": "code",
   "execution_count": null,
   "metadata": {},
   "outputs": [],
   "source": [
    "del d1[7]\n",
    "\n",
    "print(d1)"
   ]
  },
  {
   "cell_type": "code",
   "execution_count": null,
   "metadata": {},
   "outputs": [],
   "source": [
    "del d1[7]"
   ]
  },
  {
   "cell_type": "code",
   "execution_count": null,
   "metadata": {},
   "outputs": [],
   "source": [
    "ret = d1.pop('dummy','not found')\n",
    "\n",
    "print(ret)\n",
    "print(d1)"
   ]
  },
  {
   "cell_type": "code",
   "execution_count": null,
   "metadata": {},
   "outputs": [],
   "source": [
    "d1[9]='number 9'\n",
    "d1[5]='number 5'\n",
    "\n",
    "print(d1)"
   ]
  },
  {
   "cell_type": "markdown",
   "metadata": {},
   "source": [
    "The keys and values method give you iterators of the dict’s keys and values, respectively. While the key-value pairs are not in any particular order, these functions output the keys and values in the same order."
   ]
  },
  {
   "cell_type": "code",
   "execution_count": null,
   "metadata": {},
   "outputs": [],
   "source": [
    "list(d1.keys())"
   ]
  },
  {
   "cell_type": "code",
   "execution_count": null,
   "metadata": {},
   "outputs": [],
   "source": [
    "list(d1.values())"
   ]
  },
  {
   "cell_type": "markdown",
   "metadata": {},
   "source": [
    "You can merge one dict into another using the __update__ method. The __update__ method changes dicts in-place, so any existing keys in the data passed to update will have their old values discarded."
   ]
  },
  {
   "cell_type": "code",
   "execution_count": null,
   "metadata": {},
   "outputs": [],
   "source": [
    "print(d1)\n",
    "\n",
    "d1.update({'b':'foo', 'c':12})\n",
    "d1"
   ]
  },
  {
   "cell_type": "markdown",
   "metadata": {},
   "source": [
    "### 2.1.4.1    Creating dicts from Sequences\n",
    "\n",
    "It’s common to occasionally end up with two sequences that you want to pair up element-wise in a dict. As a first cut, you might write code like this:\n",
    "\n",
    "    mapping = {}\n",
    "    \n",
    "    for key, value in zip(key_list, value_list):\n",
    "        mapping[key] = value\n",
    "        \n",
    "Since a dict is essentially a collection of 2-tuples, the __dict__ function accepts a list of 2-tuples."
   ]
  },
  {
   "cell_type": "code",
   "execution_count": null,
   "metadata": {},
   "outputs": [],
   "source": [
    "mapping = dict(zip(range(5), reversed(range(5))))\n",
    "\n",
    "mapping\n"
   ]
  },
  {
   "cell_type": "markdown",
   "metadata": {},
   "source": [
    "Later we’ll talk about *dict comprehensions*, another elegant way to construct dicts.\n",
    "\n",
    "### 2.1.4.2    Default values \n",
    "\n",
    "It’s very common to have logic like:\n",
    "\n",
    "    if key in some_dict:    \n",
    "        value = some_dict[key] \n",
    "    else:    \n",
    "        value = default_value \n",
    "        \n",
    "Thus, the dict methods __get__ and __pop__ can take a default value to be returned, so that the above __if-else__ block can be written simply as:\n",
    "\n",
    "    value = some_dict.get(key, default_value) \n",
    "    \n",
    "__get__ by default will return __None__ if the key is not present, while __pop__ will raise an exception. With *setting* values, a common case is for the values in a dict to be other collections, like lists. For example, you could imagine categorizing a list of words by their first letters as a dict of lists."
   ]
  },
  {
   "cell_type": "code",
   "execution_count": null,
   "metadata": {},
   "outputs": [],
   "source": [
    "words = ['apple', 'bat', 'bar', 'atom', 'book']\n",
    "\n",
    "by_letter = {}\n",
    "\n",
    "for word in words:\n",
    "    letter = word[0]\n",
    "    if letter not in by_letter:\n",
    "        by_letter[letter] = [word]\n",
    "    else:\n",
    "        by_letter[letter].append(word)\n",
    "        \n",
    "by_letter\n"
   ]
  },
  {
   "cell_type": "markdown",
   "metadata": {},
   "source": [
    "The __setdefault__ dict method is for precisely this purpose. The preceding for loop can be rewritten as\n",
    "\n",
    "\n",
    "        \n",
    "The built-in __collections__ module has a useful class, __defaultdict__, which makes this even easier. To create one, you pass a type or function for generating the default value for each slot in the dict:\n",
    "\n",
    "    "
   ]
  },
  {
   "cell_type": "code",
   "execution_count": null,
   "metadata": {},
   "outputs": [],
   "source": [
    "words = ['apple', 'bat', 'bar', 'atom', 'book']\n",
    "\n",
    "by_letter = {}\n",
    "for word in words:    \n",
    "    letter = word[0]    \n",
    "    by_letter.setdefault(letter, []).append(word) \n",
    "    \n",
    "by_letter"
   ]
  },
  {
   "cell_type": "code",
   "execution_count": null,
   "metadata": {},
   "outputs": [],
   "source": [
    "from collections import defaultdict \n",
    "    \n",
    "by_letter = defaultdict(list) \n",
    "for word in words:    \n",
    "    by_letter[word[0]].append(word)\n",
    "    \n",
    "print(by_letter)"
   ]
  },
  {
   "cell_type": "markdown",
   "metadata": {},
   "source": [
    "### 2.1.4.3    Valid dict key types \n",
    "\n",
    "While the values of a dict can be any Python object, the keys generally have to be immutable (unchanging over time) objects like scalar types (int, float, string) or tuples (all the objects in the tuple need to be immutable, too). The technical term here is *hashability*. You can check whether an object is hashable (can be used as a key in a dict) with the __hash__ function.\n",
    "\n",
    "Hashing is a concept in computer science which is used to create high performance, pseudo random access data structures where large amount of data is to be stored and accessed quickly.\n",
    "\n",
    "For example, if you have 10,000 phone numbers, and you want to store them in an array (which is a sequential data structure that stores data in contiguous (next or together in sequence) memory locations, and provides random access), but you might not have the required amount of contiguous memory locations.\n",
    "\n",
    "So, you can instead use an array of size 100, and use a hash function to map a set of values to same indices, and these values can be stored in a linked list. This provides a performance similar to an array."
   ]
  },
  {
   "cell_type": "code",
   "execution_count": null,
   "metadata": {},
   "outputs": [],
   "source": [
    "x = hash('string')\n",
    "print(x)"
   ]
  },
  {
   "cell_type": "code",
   "execution_count": null,
   "metadata": {},
   "outputs": [],
   "source": [
    "hash((1,2,(2,3)))"
   ]
  },
  {
   "cell_type": "markdown",
   "metadata": {},
   "source": [
    "Hash values are just integers which are used to compare dictionary keys during a dictionary lookup quickly. The hash() method returns the hash value of an object if it has one."
   ]
  },
  {
   "cell_type": "code",
   "execution_count": null,
   "metadata": {},
   "outputs": [],
   "source": [
    "hash((1,2,[2,3]))    # fails because lists are mutable"
   ]
  },
  {
   "cell_type": "markdown",
   "metadata": {},
   "source": [
    "To use a list as a key, one option is to convert it to a tuple, which can be hashed as long as its elements also can:"
   ]
  },
  {
   "cell_type": "code",
   "execution_count": null,
   "metadata": {},
   "outputs": [],
   "source": [
    "d = {}\n",
    "\n",
    "#d[[1,2,3]] = 5\n",
    "d[tuple([1,2,3])] = 5\n",
    "\n",
    "print(d)\n",
    "print(type(d))"
   ]
  },
  {
   "cell_type": "markdown",
   "metadata": {},
   "source": [
    "### Quick Exercise 4\n",
    "\n",
    "Compute the price of the cart. By default everything is RM1 unless stated."
   ]
  },
  {
   "cell_type": "code",
   "execution_count": null,
   "metadata": {},
   "outputs": [],
   "source": [
    "cart = {'apple':12, \n",
    "       'banana': 1,\n",
    "       'orange':2,\n",
    "       'pear':10}\n",
    "\n",
    "prices = {'mango':12,\n",
    "         'apple':2.5,\n",
    "         'orange':5.5,\n",
    "         'banana':3}\n",
    "\n",
    "#write your code here\n"
   ]
  },
  {
   "cell_type": "markdown",
   "metadata": {},
   "source": [
    "## 2.1.5  set \n",
    "\n",
    "A set is an unordered collection of unique elements. You can think of them like dicts, but keys only, no values. A set can be created in two ways: via the __set__ function or via a *set literal* with curly braces { }.\n",
    "\n",
    "\n",
    "<br>\n",
    "<img src=\"Figure9.jpg\", style=\"width: 150px\";>"
   ]
  },
  {
   "cell_type": "code",
   "execution_count": null,
   "metadata": {},
   "outputs": [],
   "source": [
    "set([2,2,2,1,3,3])"
   ]
  },
  {
   "cell_type": "code",
   "execution_count": null,
   "metadata": {},
   "outputs": [],
   "source": [
    "{2,2,2,1,3,3}"
   ]
  },
  {
   "cell_type": "code",
   "execution_count": null,
   "metadata": {},
   "outputs": [],
   "source": [
    "type({2,2,2,1,3,3})"
   ]
  },
  {
   "cell_type": "markdown",
   "metadata": {},
   "source": [
    "Sets support mathematical *set operations* like union, intersection, difference, and symmetric difference. Consider these two example sets."
   ]
  },
  {
   "cell_type": "code",
   "execution_count": null,
   "metadata": {},
   "outputs": [],
   "source": [
    "a = {1,2,3,4,5}\n",
    "b = {3,4,5,6,7,8}"
   ]
  },
  {
   "cell_type": "markdown",
   "metadata": {},
   "source": [
    "The union of these two sets is the set of distinct elements occurring in either set. This can be computed with either the __union__ method or the | binary operator."
   ]
  },
  {
   "cell_type": "code",
   "execution_count": null,
   "metadata": {},
   "outputs": [],
   "source": [
    "print(a.union(b))\n",
    "print(a | b)"
   ]
  },
  {
   "cell_type": "markdown",
   "metadata": {},
   "source": [
    "The intersection contains the elements occurring in both sets. The & operator or the __intersection__ method can be used."
   ]
  },
  {
   "cell_type": "code",
   "execution_count": null,
   "metadata": {},
   "outputs": [],
   "source": [
    "print(a.intersection(b))\n",
    "print(a & b)"
   ]
  },
  {
   "cell_type": "markdown",
   "metadata": {},
   "source": [
    "See Table 2.1 for a list of commonly used set methods.\n",
    "\n",
    "<center>Table 2.1: Python set operations</center>\n",
    "<br>\n",
    "<img src=\"Table2.1.jpg\", style=\"width: 600px\";>\n",
    "\n",
    "<br>\n",
    "All of the logical set operations have in-place counterparts, which enable you to replace the contents of the set on the left side of the operation with the result. For very large sets, this may be more efficient.\n"
   ]
  },
  {
   "cell_type": "code",
   "execution_count": null,
   "metadata": {},
   "outputs": [],
   "source": [
    "print(a)\n",
    "c = a.copy()\n",
    "print(c)\n",
    "print(b)\n",
    "c |= b  # set the content of c to be the union of elements in c and b\n",
    "\n",
    "c"
   ]
  },
  {
   "cell_type": "code",
   "execution_count": null,
   "metadata": {},
   "outputs": [],
   "source": [
    "d = a.copy()\n",
    "print(d)\n",
    "print(b)\n",
    "d &= b   # set the content of d to be the intersection of elements in d and b\n",
    "\n",
    "d"
   ]
  },
  {
   "cell_type": "code",
   "execution_count": null,
   "metadata": {},
   "outputs": [],
   "source": [
    "a"
   ]
  },
  {
   "cell_type": "markdown",
   "metadata": {},
   "source": [
    "Like dicts, set elements generally must be immutable. To have list-like elements, you must convert it to a tuple."
   ]
  },
  {
   "cell_type": "code",
   "execution_count": null,
   "metadata": {},
   "outputs": [],
   "source": [
    "my_data = [1,2,3,4]\n",
    "\n",
    "my_set = {tuple(my_data)}\n",
    "\n",
    "my_set"
   ]
  },
  {
   "cell_type": "markdown",
   "metadata": {},
   "source": [
    "You can also check if a set is a subset of (is contained in) or a superset of (contains all elements of) another set."
   ]
  },
  {
   "cell_type": "code",
   "execution_count": null,
   "metadata": {},
   "outputs": [],
   "source": [
    "a_set = {1,2,3,4,5}\n",
    "\n",
    "{1,2,3}.issubset({1,2,3})"
   ]
  },
  {
   "cell_type": "code",
   "execution_count": null,
   "metadata": {},
   "outputs": [],
   "source": [
    "{1,2,3}.issubset(a_set)"
   ]
  },
  {
   "cell_type": "code",
   "execution_count": null,
   "metadata": {},
   "outputs": [],
   "source": [
    "{1,2,3,7}.issubset(a_set)"
   ]
  },
  {
   "cell_type": "code",
   "execution_count": null,
   "metadata": {},
   "outputs": [],
   "source": [
    "a_set.issuperset({1,2,3})"
   ]
  },
  {
   "cell_type": "code",
   "execution_count": null,
   "metadata": {},
   "outputs": [],
   "source": [
    "a_set.issuperset({1,2,3,5,7})"
   ]
  },
  {
   "cell_type": "code",
   "execution_count": null,
   "metadata": {},
   "outputs": [],
   "source": [
    "{1,2,3,4,5,7}.issuperset(a_set)"
   ]
  },
  {
   "cell_type": "markdown",
   "metadata": {},
   "source": [
    "Sets are equal if and only if their contents are equal."
   ]
  },
  {
   "cell_type": "code",
   "execution_count": null,
   "metadata": {},
   "outputs": [],
   "source": [
    "{1,2,3} == {2,3,1,1,1,1,1,1}"
   ]
  },
  {
   "cell_type": "markdown",
   "metadata": {},
   "source": [
    "## 2.1.6  List, Set, and Dict Comprehensions \n",
    "\n",
    "List *comprehensions* are one of the most-loved Python language features. They allow you to concisely form a new list by filtering the elements of a collection, transforming the elements passing the filter in one concise expression. A list comprehension is a compact expression to define a whole set.  It can be used to construct lists in a very natural, easy way, like a mathematician is used to do. \n",
    "\n",
    "The following comprehension says \"For each item in numbers, square it and add it to a new list squares.\"\n",
    "\n",
    "While we could also do this using a for-loop, it's often more convenient to use a list comprehension.\n",
    "\n",
    "    output = []\n",
    "    for element in iterable:\n",
    "        if condition(element): \n",
    "        output.append(expression(element))\n",
    "\n",
    "The same gets implemented in a simple list comprehensions construct in a single line as:\n",
    "\n",
    "    [ expression(element) for element in iterable if condition(element) ]\n",
    "    \n",
    "    \n",
    "<br>\n",
    "<img src=\"Figure10.jpg\", style=\"width: 500px\";>"
   ]
  },
  {
   "cell_type": "code",
   "execution_count": null,
   "metadata": {},
   "outputs": [],
   "source": [
    "# An example of a list comprehension with strings\n",
    "fruits = ['banana', 'apple', 'cherry', 'lime', 'mango']\n",
    "\n",
    "my_list = [s.upper() + '!!!' for s in fruits if 'a' in s]\n",
    "\n",
    "print(my_list)"
   ]
  },
  {
   "cell_type": "code",
   "execution_count": null,
   "metadata": {},
   "outputs": [],
   "source": [
    "# without list comprehension\n",
    "numbers = [1, 2, 3, 4, 5, 6, 7, 8]\n",
    "\n",
    "squares = []\n",
    "for n in numbers:\n",
    "    squares.append(n*n)\n",
    "print(squares)\n",
    "\n",
    "# with list comprehension\n",
    "squares = [n*n for n in numbers]\n",
    "print(squares)"
   ]
  },
  {
   "cell_type": "markdown",
   "metadata": {},
   "source": [
    "For example, given a list of strings, we could filter out strings with length 2 or less and also convert them to uppercase like below."
   ]
  },
  {
   "cell_type": "code",
   "execution_count": null,
   "metadata": {},
   "outputs": [],
   "source": [
    "strings = ['a','as','bat','car','dove','python']\n",
    "\n",
    "[x.upper() for x in strings if len(x) > 2]"
   ]
  },
  {
   "cell_type": "markdown",
   "metadata": {},
   "source": [
    "Set and dict comprehensions are a natural extension, producing sets and dicts in an idiomatically similar way instead of lists. A dict comprehension looks like below.\n",
    "\n",
    "    dict_comp = {key_expr : value-expr for value in collection if condition}\n",
    "    \n",
    "A set comprehension looks like the equivalent list comprehension except with curly braces { } instead of square brackets [  ]:\n",
    "\n",
    "    set_comp = {expr for value in collection if condition} \n",
    "    \n",
    "Like list comprehensions, set and dict comprehensions are mostly conveniences, but they similarly can make code both easier to write and read. Consider the list of strings from before. Suppose we wanted a set containing just the lengths of the strings contained in the collection; we could easily compute this using a set comprehension.\n",
    "\n",
    "<br>\n",
    "<img src=\"Figure11.jpg\", style=\"width: 500px\";>"
   ]
  },
  {
   "cell_type": "code",
   "execution_count": null,
   "metadata": {},
   "outputs": [],
   "source": [
    "loc_mapping = {}\n",
    "for index, val in enumerate(strings):\n",
    "   loc_mapping[val] = index\n",
    "\n",
    "print(loc_mapping)"
   ]
  },
  {
   "cell_type": "code",
   "execution_count": null,
   "metadata": {},
   "outputs": [],
   "source": [
    "loc_mapping={val:index for index, val in enumerate(strings)}\n",
    "loc_mapping"
   ]
  },
  {
   "cell_type": "code",
   "execution_count": null,
   "metadata": {},
   "outputs": [],
   "source": [
    "loc_mapping = {val: index for index, val in enumerate(strings)}\n",
    "\n",
    "loc_mapping"
   ]
  },
  {
   "cell_type": "code",
   "execution_count": null,
   "metadata": {},
   "outputs": [],
   "source": [
    "print(strings)\n",
    "unique_lengths = {len(x) for x in strings}\n",
    "\n",
    "unique_lengths"
   ]
  },
  {
   "cell_type": "markdown",
   "metadata": {},
   "source": [
    "We could also express this more functionally using the __map__ function, introduced shortly."
   ]
  },
  {
   "cell_type": "code",
   "execution_count": null,
   "metadata": {},
   "outputs": [],
   "source": [
    "set(map(len,strings))"
   ]
  },
  {
   "cell_type": "markdown",
   "metadata": {},
   "source": [
    "As a simple dict comprehension example, we could create a lookup map of these strings to their locations in the list."
   ]
  },
  {
   "cell_type": "markdown",
   "metadata": {},
   "source": [
    "### Quick Exercise 5\n",
    "Write one line of Python that takes this list *a* and makes a new list that has only the odd  elements and power it with 3."
   ]
  },
  {
   "cell_type": "code",
   "execution_count": null,
   "metadata": {},
   "outputs": [],
   "source": [
    "a = [1, 4, 9, 16, 25, 36, 49, 64, 81, 100]\n",
    "\n",
    "# write your code here\n",
    "b=[n*n*n for n in a if n%2!=0]\n",
    "b\n"
   ]
  },
  {
   "cell_type": "code",
   "execution_count": null,
   "metadata": {},
   "outputs": [],
   "source": []
  }
 ],
 "metadata": {
  "anaconda-cloud": {},
  "kernelspec": {
   "display_name": "Python 3 (ipykernel)",
   "language": "python",
   "name": "python3"
  },
  "language_info": {
   "codemirror_mode": {
    "name": "ipython",
    "version": 3
   },
   "file_extension": ".py",
   "mimetype": "text/x-python",
   "name": "python",
   "nbconvert_exporter": "python",
   "pygments_lexer": "ipython3",
   "version": "3.11.5"
  }
 },
 "nbformat": 4,
 "nbformat_minor": 1
}
