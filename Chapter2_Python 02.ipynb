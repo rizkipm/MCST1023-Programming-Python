{
 "cells": [
  {
   "cell_type": "markdown",
   "metadata": {},
   "source": [
    "# CHAPTER 2\n",
    "# Built-in Data Structures and Functions & Files"
   ]
  },
  {
   "cell_type": "markdown",
   "metadata": {},
   "source": [
    "# 2.2 Functions \n",
    "\n",
    "Functions are the primary and most important method of code organization and reuse in Python. As a rule of thumb, if you anticipate needing to repeat the same or very similar code more than once, it may be worth writing a reusable function. \n",
    "\n",
    "Functions can also help make your code more <span style=\"color:red\">readable</span> by giving a name to a group of Python statements. Functions are declared with the def keyword and returned from with the return keyword:\n",
    "\n",
    "    def my_function(x, y, z=1.5):    \n",
    "        if z > 1:        \n",
    "            return z * (x + y)    \n",
    "        else:        \n",
    "            return z / (x + y)\n",
    "\n",
    "There is no issue with having multiple return statements. If Python reaches the end of a function without encountering a return statement, None is returned automatically. Each function can have positional arguments and keyword arguments. Keyword arguments are most commonly used to specify default values or optional arguments. In the preceding function, x and y are positional arguments while z is a keyword argument. This means that the function can be called in any of these ways:\n",
    "\n",
    "    my_function(5, 6, z=0.7) \n",
    "    my_function(3.14, 7, 3.5) \n",
    "    my_function(10, 20) \n",
    "    \n",
    "The main restriction on function arguments is that the keyword arguments must follow the positional arguments (if any). You can specify keyword arguments in any order; this frees you from having to remember which order the function arguments were specified in and only what their names are.\n",
    "\n",
    "It is possible to use keywords for passing positional arguments as well. In the preceding example, we could also have written: \n",
    "    \n",
    "    my_function(x=5, y=6, z=7) \n",
    "    my_function(y=6, x=5, z=7) \n",
    "    \n",
    "In some cases this can help with readability."
   ]
  },
  {
   "cell_type": "markdown",
   "metadata": {},
   "source": [
    "## 2.2.1   Namespaces, Scope, and Local Functions \n",
    "\n",
    "Functions can access variables in two different scopes: global and local. An alternative and more descriptive name describing a variable scope in Python is a namespace. Any variables that are assigned within a function by default are assigned to the local namespace. The local namespace is created when the function is called and immediately populated by the function’s arguments. After the function is finished, the local namespace is destroyed (with some exceptions that are outside the purview of this chapter). Consider the following function:\n",
    "\n",
    "    def func():    \n",
    "        a = []    \n",
    "        for i in range(5):        \n",
    "            a.append(i) \n",
    "            \n",
    "When func() is called, the empty list _a_ is created, five elements are appended, and then _a_ is destroyed when the function exits. Suppose instead we had declared _a_ as follows:\n",
    "\n",
    "    a = [] \n",
    "    def func():    \n",
    "        for i in range(5):        \n",
    "            a.append(i)\n",
    "\n",
    "Assigning variables outside of the function’s scope is possible, but those variables must be declared as global via the <span style=\"color:red; font-weight:bold;\">global</span> keyword:\n",
    "\n",
    "   "
   ]
  },
  {
   "cell_type": "code",
   "execution_count": null,
   "metadata": {},
   "outputs": [],
   "source": [
    "a = None\n",
    "print(type(a))\n",
    "\n",
    "def bind_a_variable():\n",
    "    global a   \n",
    "    a = []   \n",
    "bind_a_variable()   \n",
    "\n",
    "print(a) \n",
    "print(type(a))"
   ]
  },
  {
   "cell_type": "code",
   "execution_count": null,
   "metadata": {},
   "outputs": [],
   "source": [
    "def bind_a_variable():\n",
    "    #global b   \n",
    "    b = [] \n",
    "    print(b)\n",
    "bind_a_variable()   \n",
    "\n",
    "#print(b) \n",
    "print(type(b))"
   ]
  },
  {
   "cell_type": "markdown",
   "metadata": {},
   "source": [
    "## 2.2.2   Returning Multiple Values \n",
    "\n",
    "If you have programmed in Java and C++ before, one of useful features in Python that is not offered in those languages is the ability to return multiple values from a function with simple syntax. Here’s an example:\n",
    "\n",
    "    def f():    \n",
    "        a = 5    \n",
    "        b = 6    \n",
    "        c = 7    \n",
    "        return a, b, c\n",
    "\n",
    "    a, b, c = f() \n",
    "    \n",
    "In data analysis and other scientific applications, you may find yourself doing this often. What’s happening here is that the function is actually just returning one object, namely a tuple, which is then being unpacked into the result variables. In the preceding example, we could have done this instead:\n",
    "\n",
    "    return_value = f() \n",
    "    \n",
    "In this case, return_value would be a 3-tuple with the three returned variables. A potentially attractive alternative to returning multiple values like before might be to return a dict instead:\n",
    "\n",
    "    def f():    \n",
    "        a = 5    \n",
    "        b = 6    \n",
    "        c = 7    \n",
    "        return {'a' : a, 'b' : b, 'c' : c}\n",
    "\n",
    "This alternative technique can be useful depending on what you are trying to do.\n"
   ]
  },
  {
   "cell_type": "code",
   "execution_count": null,
   "metadata": {},
   "outputs": [],
   "source": [
    "# An example for a car loan calculation\n",
    "\n",
    "def get_a_car_loan(amount, tenure, rate):\n",
    "    total = amount * (1 + (tenure*(rate/100)))\n",
    "    installment = total / (tenure * 12)\n",
    "    return {'total_loan':total, 'installment_per_month':installment} \n",
    "    #return a dict object\n",
    "\n",
    "result = get_a_car_loan(96000,6,2.58)\n",
    "print('data type of result: '+str(type(result)))\n",
    "print('Total loan amount: RM'+str(result['total_loan']))\n",
    "print('Installment per month: RM'+str(result['installment_per_month']))"
   ]
  },
  {
   "cell_type": "code",
   "execution_count": null,
   "metadata": {},
   "outputs": [],
   "source": [
    "# An example for a car loan calculation\n",
    "\n",
    "def get_a_car_loan(amount, tenure, rate):\n",
    "    total = amount * (1 + (tenure*(rate/100)))\n",
    "    installment = total / (tenure * 12)\n",
    "    return total, installment #return a tuple object\n",
    "\n",
    "result = get_a_car_loan(96000,6,2.58)\n",
    "print('data type of result: '+str(type(result)))\n",
    "print('Total loan amount: RM'+str(result[0]))\n",
    "print('Installment per month: RM'+str(result[1]))"
   ]
  },
  {
   "cell_type": "code",
   "execution_count": null,
   "metadata": {},
   "outputs": [],
   "source": [
    "# OR you can call in this way:\n",
    "tot,inst = get_a_car_loan(96000,6,2.58)\n",
    "print('data type of tot: '+str(type(tot)))\n",
    "print('data type of inst: '+str(type(inst)))\n",
    "print('Total loan amount: RM'+str(tot))\n",
    "print('Installment per month: RM'+str(inst))"
   ]
  },
  {
   "cell_type": "markdown",
   "metadata": {},
   "source": [
    "\n",
    "## 2.2.3  Functions Are Objects \n",
    "\n",
    "Since Python functions are objects, many constructs can be easily expressed that are difficult to do in other languages. Suppose we were doing some data cleaning and needed to apply a bunch of transformations to the following list of strings."
   ]
  },
  {
   "cell_type": "code",
   "execution_count": null,
   "metadata": {},
   "outputs": [],
   "source": [
    "states = ['Alabama', 'Georgia!', 'Georgia', 'georgia', 'FlOrIda',\n",
    "           'south    carolina##', 'West virginia?'] "
   ]
  },
  {
   "cell_type": "markdown",
   "metadata": {},
   "source": [
    "Anyone who has ever worked with user-submitted survey data has seen messy results like these. Lots of things need to happen to make this list of strings uniform and ready for analysis: stripping whitespace, removing punctuation symbols, and standardizing on proper capitalization. One way to do this is to use built-in string methods along with the __re__ standard library module for regular expressions:"
   ]
  },
  {
   "cell_type": "code",
   "execution_count": null,
   "metadata": {},
   "outputs": [],
   "source": [
    "import re\n",
    "\n",
    "def clean_strings(strings):    \n",
    "    print(strings)\n",
    "    result = []    \n",
    "    for value in strings:        \n",
    "        value = value.strip()        \n",
    "        value = re.sub('[!#?]', '', value)        \n",
    "        value = value.title()        \n",
    "        result.append(value)    \n",
    "    return result "
   ]
  },
  {
   "cell_type": "markdown",
   "metadata": {},
   "source": [
    "The result looks like this:"
   ]
  },
  {
   "cell_type": "code",
   "execution_count": null,
   "metadata": {},
   "outputs": [],
   "source": [
    "clean_strings(states)"
   ]
  },
  {
   "cell_type": "markdown",
   "metadata": {},
   "source": [
    "An alternative approach that you may find useful is to make a list of the operations you want to apply to a particular set of strings."
   ]
  },
  {
   "cell_type": "code",
   "execution_count": null,
   "metadata": {},
   "outputs": [],
   "source": [
    "print(states)"
   ]
  },
  {
   "cell_type": "code",
   "execution_count": null,
   "metadata": {},
   "outputs": [],
   "source": [
    "def remove_punctuation(value):    \n",
    "    return re.sub('[!#?]', '', value)\n",
    "\n",
    "clean_ops = [str.strip, remove_punctuation, str.title]\n",
    "\n",
    "def clean_strings(strings, ops):    \n",
    "    result = []    \n",
    "    for value in strings:        \n",
    "        for function in ops:\n",
    "            value = function(value)        \n",
    "        result.append(value)    \n",
    "    return result "
   ]
  },
  {
   "cell_type": "markdown",
   "metadata": {},
   "source": [
    "Then we have the following:"
   ]
  },
  {
   "cell_type": "code",
   "execution_count": null,
   "metadata": {},
   "outputs": [],
   "source": [
    "clean_strings(states, clean_ops)"
   ]
  },
  {
   "cell_type": "markdown",
   "metadata": {},
   "source": [
    "A more _functional_ pattern like this enables you to easily modify how the strings are transformed at a very high level. The __clean_strings__ function is also now more reusable and generic. \n",
    "\n",
    "You can use functions as arguments to other functions like the built-in __map__ function, which applies a function to a sequence of some kind. The __map__ function applies a given function to each item of an iterable (list, tuple etc.) and returns a list of the results."
   ]
  },
  {
   "cell_type": "code",
   "execution_count": null,
   "metadata": {},
   "outputs": [],
   "source": [
    "print(states)"
   ]
  },
  {
   "cell_type": "code",
   "execution_count": null,
   "metadata": {},
   "outputs": [],
   "source": [
    "for x in map(remove_punctuation, states):  \n",
    "    print(x) "
   ]
  },
  {
   "cell_type": "code",
   "execution_count": null,
   "metadata": {},
   "outputs": [],
   "source": [
    "for x in (states):\n",
    "    print(remove_punctuation(x))\n",
    "    #print(result)"
   ]
  },
  {
   "cell_type": "code",
   "execution_count": null,
   "metadata": {},
   "outputs": [],
   "source": [
    "def myfunc(n):\n",
    "    return len(n)\n",
    "\n",
    "x = map(myfunc, ('apple', 'banana', 'cherry')) \n",
    "print(list(x))\n",
    "#print(x)"
   ]
  },
  {
   "cell_type": "markdown",
   "metadata": {},
   "source": [
    "## 2.2.4  Anonymous (Lambda) Functions \n",
    "\n",
    "Python has support for so-called __anonymous__ or __lambda__ functions, which are a way of writing functions consisting of a single statement, the result of which is the return value. They are defined with the __lambda__ keyword, which has no meaning other than “we are declaring an anonymous function”. __A lambda__ function can take any number of arguments, but can only have one expression. The syntax is:\n",
    "\n",
    "    lambda arguments : expression\n",
    "  \n",
    "Lambda functions are throw-away functions, i.e. they are just needed where they have been created. Lambda functions are mainly used in combination with the functions filter(), map() and reduce().  \n",
    "\n",
    "They are especially convenient in data analysis because, as you’ll see, there are many cases where data transformation functions will take functions as arguments. It’s often less typing (and clearer) to pass a lambda function as opposed to writing a full-out function declaration or even assigning the lambda function to a local variable. For example, consider this silly example:"
   ]
  },
  {
   "cell_type": "code",
   "execution_count": null,
   "metadata": {},
   "outputs": [],
   "source": [
    "def apply_to_list(some_list, f):    \n",
    "    return [f(x) for x in some_list]\n",
    "\n",
    "ints = [4, 0, 1, 5, 6] \n",
    "apply_to_list(ints, lambda x: x*2)\n",
    "apply_to_list(ints, lambda x: x**2)\n",
    "apply_to_list(ints, lambda x: x+2)"
   ]
  },
  {
   "cell_type": "markdown",
   "metadata": {},
   "source": [
    "In the above program, lambda x: x*****2 is the lambda function. Here x is the argument and x*****2 is the expression that gets evaluated and returned. You could also have written [x ** 2 for x in ints], but here we were able to succinctly pass a custom operator to the __apply_to_list__ function. \n",
    "\n",
    "You can change your lambda function without having to create other new functions."
   ]
  },
  {
   "cell_type": "code",
   "execution_count": null,
   "metadata": {},
   "outputs": [],
   "source": [
    "print(apply_to_list(ints, lambda x: x**2)) \n",
    "print(apply_to_list(ints, lambda x: x/2)) "
   ]
  },
  {
   "cell_type": "markdown",
   "metadata": {},
   "source": [
    "As another example, suppose you wanted to sort a collection of strings by the number of distinct letters in each string:"
   ]
  },
  {
   "cell_type": "code",
   "execution_count": null,
   "metadata": {},
   "outputs": [],
   "source": [
    "strings = ['amin', 'card', 'bar', 'aaaa', 'abab'] "
   ]
  },
  {
   "cell_type": "markdown",
   "metadata": {},
   "source": [
    "Here we could pass a lambda function to the list’s sort method:"
   ]
  },
  {
   "cell_type": "code",
   "execution_count": null,
   "metadata": {},
   "outputs": [],
   "source": [
    "strings.sort(key=lambda x: len(set(list(x))))\n",
    "#strings.sort(key=lambda x: len(set(x)))    \n",
    "strings"
   ]
  },
  {
   "cell_type": "markdown",
   "metadata": {},
   "source": [
    "Other examples:"
   ]
  },
  {
   "cell_type": "code",
   "execution_count": null,
   "metadata": {},
   "outputs": [],
   "source": [
    "# Example 1: A lambda function that adds 10 to the number passed in as an argument, \n",
    "# and print the result.\n",
    "\n",
    "x = lambda a : a + 10\n",
    "print(x(5)) "
   ]
  },
  {
   "cell_type": "code",
   "execution_count": null,
   "metadata": {},
   "outputs": [],
   "source": [
    "# Example 2: A lambda function that multiplies argument a with argument b and print the result \n",
    "# (Lambda functions can take any number of arguments).\n",
    "\n",
    "x = lambda a, b : a * b\n",
    "print(x(5, 6)) "
   ]
  },
  {
   "cell_type": "markdown",
   "metadata": {},
   "source": [
    "### Quick Exercise 1\n",
    "\n",
    "Write a lambda function that sums argument a, b, and c and print the result."
   ]
  },
  {
   "cell_type": "code",
   "execution_count": null,
   "metadata": {},
   "outputs": [],
   "source": [
    "# write your code here\n",
    "\n"
   ]
  },
  {
   "cell_type": "markdown",
   "metadata": {},
   "source": [
    "# 2.3 File IO\n",
    "\n",
    "Most of this book uses high-level tools like pandas.read_csv (you will learn this later) to read data files from disk into Python data structures. However, it’s important to understand the basics of how to work with files in Python. \n",
    "\n",
    "Fortunately, it’s very simple, which is one reason why Python is so popular for text and file munging. To open a file for reading or writing, use the built-in open function with either a relative or absolute file path:"
   ]
  },
  {
   "cell_type": "code",
   "execution_count": null,
   "metadata": {},
   "outputs": [],
   "source": [
    "path = 'File1.txt'\n",
    "f = open(path)"
   ]
  },
  {
   "cell_type": "markdown",
   "metadata": {},
   "source": [
    "By default, the file is opened in read-only mode 'r'. We can then treat the file handle f like a list and iterate over the lines like so:"
   ]
  },
  {
   "cell_type": "code",
   "execution_count": null,
   "metadata": {},
   "outputs": [],
   "source": [
    "for line in f:    \n",
    "    pass "
   ]
  },
  {
   "cell_type": "markdown",
   "metadata": {},
   "source": [
    "The lines come out of the file with the end-of-line (EOL) markers intact, so you’ll often see code to get an EOL-free list of lines in a file like:"
   ]
  },
  {
   "cell_type": "code",
   "execution_count": null,
   "metadata": {},
   "outputs": [],
   "source": [
    "lines = [x.rstrip() for x in open(path)]\n",
    "\n",
    "lines"
   ]
  },
  {
   "cell_type": "markdown",
   "metadata": {},
   "source": [
    "When you use open to create file objects, it is important to explicitly close the file when you are finished with it. Closing the file releases its resources back to the operating system:"
   ]
  },
  {
   "cell_type": "code",
   "execution_count": null,
   "metadata": {},
   "outputs": [],
   "source": [
    "f.close()"
   ]
  },
  {
   "cell_type": "markdown",
   "metadata": {},
   "source": [
    "One of the ways to make it easier to clean up open files is to use the with statement:"
   ]
  },
  {
   "cell_type": "code",
   "execution_count": null,
   "metadata": {},
   "outputs": [],
   "source": [
    "with open(path) as f:   \n",
    "    lines = [x.rstrip() for x in f] \n",
    "    \n",
    "lines"
   ]
  },
  {
   "cell_type": "markdown",
   "metadata": {},
   "source": [
    "This will automatically close the file f when exiting the with block. \n",
    "\n",
    "If we had typed \n",
    "\n",
    "    f = open(path, 'w')\n",
    "a new file at File1.txt would have been created (be careful!), overwriting any one in its place. \n",
    "\n",
    "There is also the 'x' file mode, which creates a writable file but fails if the file path already exists. See Table 2-2 for a list of all valid file read/write modes. \n",
    "\n",
    "<br>\n",
    "<center>Table 2.2: Python file modes</center>\n",
    "<img src=\"Table2.2.jpg\", style=\"width: 800px\";>\n",
    "\n",
    "For readable files, some of the most commonly used methods are __read__, __seek__, and __tell__. __read__ returns a certain number of characters from the file. What constitutes a “character” is determined by the file’s encoding (e.g., UTF-8) or simply raw bytes if the file is opened in binary mode:"
   ]
  },
  {
   "cell_type": "code",
   "execution_count": null,
   "metadata": {},
   "outputs": [],
   "source": [
    "path = 'File1.txt'\n",
    "f = open(path)\n",
    "f.read(40)"
   ]
  },
  {
   "cell_type": "code",
   "execution_count": null,
   "metadata": {},
   "outputs": [],
   "source": [
    "f.closed"
   ]
  },
  {
   "cell_type": "code",
   "execution_count": null,
   "metadata": {},
   "outputs": [],
   "source": [
    "f2 = open(path, 'rb')\n",
    "f2.read(50)"
   ]
  },
  {
   "cell_type": "markdown",
   "metadata": {},
   "source": [
    "The __read__ method advances the file handle’s position by the number of bytes read. __tell__ gives you the current position."
   ]
  },
  {
   "cell_type": "code",
   "execution_count": null,
   "metadata": {},
   "outputs": [],
   "source": [
    "print(f.tell())\n",
    "print(f2.tell())"
   ]
  },
  {
   "cell_type": "markdown",
   "metadata": {},
   "source": [
    "__seek__ changes the file position to the indicated byte in the file:"
   ]
  },
  {
   "cell_type": "code",
   "execution_count": null,
   "metadata": {},
   "outputs": [],
   "source": [
    "print(f.seek(3))\n",
    "print(f.tell())\n",
    "f.read(3)"
   ]
  },
  {
   "cell_type": "markdown",
   "metadata": {},
   "source": [
    "Lastly, don't forget to close the files:"
   ]
  },
  {
   "cell_type": "code",
   "execution_count": null,
   "metadata": {},
   "outputs": [],
   "source": [
    "f.close()\n",
    "f2.close()"
   ]
  },
  {
   "cell_type": "markdown",
   "metadata": {},
   "source": [
    "To write text to a file, you can use the file’s write or writelines methods. For example, we could create a version of File1 with no blank lines like so:"
   ]
  },
  {
   "cell_type": "code",
   "execution_count": null,
   "metadata": {},
   "outputs": [],
   "source": [
    "with open('tmp.txt', 'w') as handle:  \n",
    "    handle.writelines(x for x in open(path) if len(x) > 1)\n",
    "\n",
    "with open('tmp.txt') as f: \n",
    "    lines = f.readlines()\n",
    "\n",
    "lines"
   ]
  },
  {
   "cell_type": "code",
   "execution_count": null,
   "metadata": {},
   "outputs": [],
   "source": [
    "f.closed"
   ]
  },
  {
   "cell_type": "markdown",
   "metadata": {},
   "source": [
    "See Table 2-3 for many of the most commonly used file methods.\n",
    "\n",
    "<br>\n",
    "<center>Table 2.3: Important Python file methods or attributes </center>\n",
    "<img src=\"Table2.3.jpg\", style=\"width: 800px\";>\n"
   ]
  }
 ],
 "metadata": {
  "anaconda-cloud": {},
  "kernelspec": {
   "display_name": "Python 3 (ipykernel)",
   "language": "python",
   "name": "python3"
  },
  "language_info": {
   "codemirror_mode": {
    "name": "ipython",
    "version": 3
   },
   "file_extension": ".py",
   "mimetype": "text/x-python",
   "name": "python",
   "nbconvert_exporter": "python",
   "pygments_lexer": "ipython3",
   "version": "3.11.5"
  }
 },
 "nbformat": 4,
 "nbformat_minor": 1
}
